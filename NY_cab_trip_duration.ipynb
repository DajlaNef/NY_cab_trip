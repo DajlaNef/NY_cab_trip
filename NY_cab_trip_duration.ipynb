{
 "cells": [
  {
   "cell_type": "code",
   "execution_count": 1,
   "metadata": {},
   "outputs": [],
   "source": [
    "import pandas as pd\n",
    "import seaborn as sns \n",
    "import matplotlib.pyplot as plt\n",
    "import numpy as np\n",
    "%matplotlib inline"
   ]
  },
  {
   "cell_type": "code",
   "execution_count": 2,
   "metadata": {},
   "outputs": [],
   "source": [
    "trip_duration=pd.read_csv('train.csv')"
   ]
  },
  {
   "cell_type": "code",
   "execution_count": 3,
   "metadata": {},
   "outputs": [
    {
     "data": {
      "text/html": [
       "<div>\n",
       "<style scoped>\n",
       "    .dataframe tbody tr th:only-of-type {\n",
       "        vertical-align: middle;\n",
       "    }\n",
       "\n",
       "    .dataframe tbody tr th {\n",
       "        vertical-align: top;\n",
       "    }\n",
       "\n",
       "    .dataframe thead th {\n",
       "        text-align: right;\n",
       "    }\n",
       "</style>\n",
       "<table border=\"1\" class=\"dataframe\">\n",
       "  <thead>\n",
       "    <tr style=\"text-align: right;\">\n",
       "      <th></th>\n",
       "      <th>id</th>\n",
       "      <th>vendor_id</th>\n",
       "      <th>pickup_datetime</th>\n",
       "      <th>dropoff_datetime</th>\n",
       "      <th>passenger_count</th>\n",
       "      <th>pickup_longitude</th>\n",
       "      <th>pickup_latitude</th>\n",
       "      <th>dropoff_longitude</th>\n",
       "      <th>dropoff_latitude</th>\n",
       "      <th>store_and_fwd_flag</th>\n",
       "      <th>trip_duration</th>\n",
       "    </tr>\n",
       "  </thead>\n",
       "  <tbody>\n",
       "    <tr>\n",
       "      <th>0</th>\n",
       "      <td>id2875421</td>\n",
       "      <td>2</td>\n",
       "      <td>2016-03-14 17:24:55</td>\n",
       "      <td>2016-03-14 17:32:30</td>\n",
       "      <td>1</td>\n",
       "      <td>-73.982155</td>\n",
       "      <td>40.767937</td>\n",
       "      <td>-73.964630</td>\n",
       "      <td>40.765602</td>\n",
       "      <td>N</td>\n",
       "      <td>455</td>\n",
       "    </tr>\n",
       "    <tr>\n",
       "      <th>1</th>\n",
       "      <td>id2377394</td>\n",
       "      <td>1</td>\n",
       "      <td>2016-06-12 00:43:35</td>\n",
       "      <td>2016-06-12 00:54:38</td>\n",
       "      <td>1</td>\n",
       "      <td>-73.980415</td>\n",
       "      <td>40.738564</td>\n",
       "      <td>-73.999481</td>\n",
       "      <td>40.731152</td>\n",
       "      <td>N</td>\n",
       "      <td>663</td>\n",
       "    </tr>\n",
       "    <tr>\n",
       "      <th>2</th>\n",
       "      <td>id3858529</td>\n",
       "      <td>2</td>\n",
       "      <td>2016-01-19 11:35:24</td>\n",
       "      <td>2016-01-19 12:10:48</td>\n",
       "      <td>1</td>\n",
       "      <td>-73.979027</td>\n",
       "      <td>40.763939</td>\n",
       "      <td>-74.005333</td>\n",
       "      <td>40.710087</td>\n",
       "      <td>N</td>\n",
       "      <td>2124</td>\n",
       "    </tr>\n",
       "    <tr>\n",
       "      <th>3</th>\n",
       "      <td>id3504673</td>\n",
       "      <td>2</td>\n",
       "      <td>2016-04-06 19:32:31</td>\n",
       "      <td>2016-04-06 19:39:40</td>\n",
       "      <td>1</td>\n",
       "      <td>-74.010040</td>\n",
       "      <td>40.719971</td>\n",
       "      <td>-74.012268</td>\n",
       "      <td>40.706718</td>\n",
       "      <td>N</td>\n",
       "      <td>429</td>\n",
       "    </tr>\n",
       "    <tr>\n",
       "      <th>4</th>\n",
       "      <td>id2181028</td>\n",
       "      <td>2</td>\n",
       "      <td>2016-03-26 13:30:55</td>\n",
       "      <td>2016-03-26 13:38:10</td>\n",
       "      <td>1</td>\n",
       "      <td>-73.973053</td>\n",
       "      <td>40.793209</td>\n",
       "      <td>-73.972923</td>\n",
       "      <td>40.782520</td>\n",
       "      <td>N</td>\n",
       "      <td>435</td>\n",
       "    </tr>\n",
       "  </tbody>\n",
       "</table>\n",
       "</div>"
      ],
      "text/plain": [
       "          id  vendor_id      pickup_datetime     dropoff_datetime  \\\n",
       "0  id2875421          2  2016-03-14 17:24:55  2016-03-14 17:32:30   \n",
       "1  id2377394          1  2016-06-12 00:43:35  2016-06-12 00:54:38   \n",
       "2  id3858529          2  2016-01-19 11:35:24  2016-01-19 12:10:48   \n",
       "3  id3504673          2  2016-04-06 19:32:31  2016-04-06 19:39:40   \n",
       "4  id2181028          2  2016-03-26 13:30:55  2016-03-26 13:38:10   \n",
       "\n",
       "   passenger_count  pickup_longitude  pickup_latitude  dropoff_longitude  \\\n",
       "0                1        -73.982155        40.767937         -73.964630   \n",
       "1                1        -73.980415        40.738564         -73.999481   \n",
       "2                1        -73.979027        40.763939         -74.005333   \n",
       "3                1        -74.010040        40.719971         -74.012268   \n",
       "4                1        -73.973053        40.793209         -73.972923   \n",
       "\n",
       "   dropoff_latitude store_and_fwd_flag  trip_duration  \n",
       "0         40.765602                  N            455  \n",
       "1         40.731152                  N            663  \n",
       "2         40.710087                  N           2124  \n",
       "3         40.706718                  N            429  \n",
       "4         40.782520                  N            435  "
      ]
     },
     "execution_count": 3,
     "metadata": {},
     "output_type": "execute_result"
    }
   ],
   "source": [
    "trip_duration.head()"
   ]
  },
  {
   "cell_type": "code",
   "execution_count": 6,
   "metadata": {},
   "outputs": [
    {
     "data": {
      "text/html": [
       "<div>\n",
       "<style scoped>\n",
       "    .dataframe tbody tr th:only-of-type {\n",
       "        vertical-align: middle;\n",
       "    }\n",
       "\n",
       "    .dataframe tbody tr th {\n",
       "        vertical-align: top;\n",
       "    }\n",
       "\n",
       "    .dataframe thead th {\n",
       "        text-align: right;\n",
       "    }\n",
       "</style>\n",
       "<table border=\"1\" class=\"dataframe\">\n",
       "  <thead>\n",
       "    <tr style=\"text-align: right;\">\n",
       "      <th></th>\n",
       "      <th>vendor_id</th>\n",
       "      <th>passenger_count</th>\n",
       "      <th>pickup_longitude</th>\n",
       "      <th>pickup_latitude</th>\n",
       "      <th>dropoff_longitude</th>\n",
       "      <th>dropoff_latitude</th>\n",
       "      <th>trip_duration</th>\n",
       "    </tr>\n",
       "  </thead>\n",
       "  <tbody>\n",
       "    <tr>\n",
       "      <th>count</th>\n",
       "      <td>1.458644e+06</td>\n",
       "      <td>1.458644e+06</td>\n",
       "      <td>1.458644e+06</td>\n",
       "      <td>1.458644e+06</td>\n",
       "      <td>1.458644e+06</td>\n",
       "      <td>1.458644e+06</td>\n",
       "      <td>1.458644e+06</td>\n",
       "    </tr>\n",
       "    <tr>\n",
       "      <th>mean</th>\n",
       "      <td>1.534950e+00</td>\n",
       "      <td>1.664530e+00</td>\n",
       "      <td>-7.397349e+01</td>\n",
       "      <td>4.075092e+01</td>\n",
       "      <td>-7.397342e+01</td>\n",
       "      <td>4.075180e+01</td>\n",
       "      <td>9.594923e+02</td>\n",
       "    </tr>\n",
       "    <tr>\n",
       "      <th>std</th>\n",
       "      <td>4.987772e-01</td>\n",
       "      <td>1.314242e+00</td>\n",
       "      <td>7.090186e-02</td>\n",
       "      <td>3.288119e-02</td>\n",
       "      <td>7.064327e-02</td>\n",
       "      <td>3.589056e-02</td>\n",
       "      <td>5.237432e+03</td>\n",
       "    </tr>\n",
       "    <tr>\n",
       "      <th>min</th>\n",
       "      <td>1.000000e+00</td>\n",
       "      <td>0.000000e+00</td>\n",
       "      <td>-1.219333e+02</td>\n",
       "      <td>3.435970e+01</td>\n",
       "      <td>-1.219333e+02</td>\n",
       "      <td>3.218114e+01</td>\n",
       "      <td>1.000000e+00</td>\n",
       "    </tr>\n",
       "    <tr>\n",
       "      <th>25%</th>\n",
       "      <td>1.000000e+00</td>\n",
       "      <td>1.000000e+00</td>\n",
       "      <td>-7.399187e+01</td>\n",
       "      <td>4.073735e+01</td>\n",
       "      <td>-7.399133e+01</td>\n",
       "      <td>4.073588e+01</td>\n",
       "      <td>3.970000e+02</td>\n",
       "    </tr>\n",
       "    <tr>\n",
       "      <th>50%</th>\n",
       "      <td>2.000000e+00</td>\n",
       "      <td>1.000000e+00</td>\n",
       "      <td>-7.398174e+01</td>\n",
       "      <td>4.075410e+01</td>\n",
       "      <td>-7.397975e+01</td>\n",
       "      <td>4.075452e+01</td>\n",
       "      <td>6.620000e+02</td>\n",
       "    </tr>\n",
       "    <tr>\n",
       "      <th>75%</th>\n",
       "      <td>2.000000e+00</td>\n",
       "      <td>2.000000e+00</td>\n",
       "      <td>-7.396733e+01</td>\n",
       "      <td>4.076836e+01</td>\n",
       "      <td>-7.396301e+01</td>\n",
       "      <td>4.076981e+01</td>\n",
       "      <td>1.075000e+03</td>\n",
       "    </tr>\n",
       "    <tr>\n",
       "      <th>max</th>\n",
       "      <td>2.000000e+00</td>\n",
       "      <td>9.000000e+00</td>\n",
       "      <td>-6.133553e+01</td>\n",
       "      <td>5.188108e+01</td>\n",
       "      <td>-6.133553e+01</td>\n",
       "      <td>4.392103e+01</td>\n",
       "      <td>3.526282e+06</td>\n",
       "    </tr>\n",
       "  </tbody>\n",
       "</table>\n",
       "</div>"
      ],
      "text/plain": [
       "          vendor_id  passenger_count  pickup_longitude  pickup_latitude  \\\n",
       "count  1.458644e+06     1.458644e+06      1.458644e+06     1.458644e+06   \n",
       "mean   1.534950e+00     1.664530e+00     -7.397349e+01     4.075092e+01   \n",
       "std    4.987772e-01     1.314242e+00      7.090186e-02     3.288119e-02   \n",
       "min    1.000000e+00     0.000000e+00     -1.219333e+02     3.435970e+01   \n",
       "25%    1.000000e+00     1.000000e+00     -7.399187e+01     4.073735e+01   \n",
       "50%    2.000000e+00     1.000000e+00     -7.398174e+01     4.075410e+01   \n",
       "75%    2.000000e+00     2.000000e+00     -7.396733e+01     4.076836e+01   \n",
       "max    2.000000e+00     9.000000e+00     -6.133553e+01     5.188108e+01   \n",
       "\n",
       "       dropoff_longitude  dropoff_latitude  trip_duration  \n",
       "count       1.458644e+06      1.458644e+06   1.458644e+06  \n",
       "mean       -7.397342e+01      4.075180e+01   9.594923e+02  \n",
       "std         7.064327e-02      3.589056e-02   5.237432e+03  \n",
       "min        -1.219333e+02      3.218114e+01   1.000000e+00  \n",
       "25%        -7.399133e+01      4.073588e+01   3.970000e+02  \n",
       "50%        -7.397975e+01      4.075452e+01   6.620000e+02  \n",
       "75%        -7.396301e+01      4.076981e+01   1.075000e+03  \n",
       "max        -6.133553e+01      4.392103e+01   3.526282e+06  "
      ]
     },
     "execution_count": 6,
     "metadata": {},
     "output_type": "execute_result"
    }
   ],
   "source": [
    "trip_duration.describe()"
   ]
  },
  {
   "cell_type": "code",
   "execution_count": 7,
   "metadata": {},
   "outputs": [
    {
     "name": "stdout",
     "output_type": "stream",
     "text": [
      "<class 'pandas.core.frame.DataFrame'>\n",
      "RangeIndex: 1458644 entries, 0 to 1458643\n",
      "Data columns (total 11 columns):\n",
      " #   Column              Non-Null Count    Dtype  \n",
      "---  ------              --------------    -----  \n",
      " 0   id                  1458644 non-null  object \n",
      " 1   vendor_id           1458644 non-null  int64  \n",
      " 2   pickup_datetime     1458644 non-null  object \n",
      " 3   dropoff_datetime    1458644 non-null  object \n",
      " 4   passenger_count     1458644 non-null  int64  \n",
      " 5   pickup_longitude    1458644 non-null  float64\n",
      " 6   pickup_latitude     1458644 non-null  float64\n",
      " 7   dropoff_longitude   1458644 non-null  float64\n",
      " 8   dropoff_latitude    1458644 non-null  float64\n",
      " 9   store_and_fwd_flag  1458644 non-null  object \n",
      " 10  trip_duration       1458644 non-null  int64  \n",
      "dtypes: float64(4), int64(3), object(4)\n",
      "memory usage: 122.4+ MB\n"
     ]
    }
   ],
   "source": [
    "trip_duration.info()"
   ]
  },
  {
   "cell_type": "code",
   "execution_count": 8,
   "metadata": {},
   "outputs": [
    {
     "data": {
      "text/plain": [
       "<matplotlib.axes._subplots.AxesSubplot at 0x1dd5d491e88>"
      ]
     },
     "execution_count": 8,
     "metadata": {},
     "output_type": "execute_result"
    },
    {
     "data": {
      "image/png": "[encoded data removed]",
      "text/plain": [
       "<Figure size 432x288 with 1 Axes>"
      ]
     },
     "metadata": {
      "needs_background": "light"
     },
     "output_type": "display_data"
    }
   ],
   "source": [
    "sns.countplot(x='passenger_count',data=trip_duration[trip_duration['trip_duration']<1000],hue='vendor_id',palette='Set2')"
   ]
  },
  {
   "cell_type": "code",
   "execution_count": 9,
   "metadata": {},
   "outputs": [
    {
     "data": {
      "text/plain": [
       "<matplotlib.axes._subplots.AxesSubplot at 0x1dd00ce47c8>"
      ]
     },
     "execution_count": 9,
     "metadata": {},
     "output_type": "execute_result"
    },
    {
     "data": {
      "image/png": "[encoded data removed]",
      "text/plain": [
       "<Figure size 432x288 with 1 Axes>"
      ]
     },
     "metadata": {
      "needs_background": "light"
     },
     "output_type": "display_data"
    }
   ],
   "source": [
    "sns.distplot(trip_duration[trip_duration['trip_duration']<2000]['trip_duration'],bins=30,color='Purple')"
   ]
  },
  {
   "cell_type": "code",
   "execution_count": 10,
   "metadata": {},
   "outputs": [
    {
     "data": {
      "text/plain": [
       "<matplotlib.axes._subplots.AxesSubplot at 0x1dd5d109788>"
      ]
     },
     "execution_count": 10,
     "metadata": {},
     "output_type": "execute_result"
    },
    {
     "data": {
      "image/png": "[encoded data removed]",
      "text/plain": [
       "<Figure size 720x432 with 1 Axes>"
      ]
     },
     "metadata": {
      "needs_background": "light"
     },
     "output_type": "display_data"
    }
   ],
   "source": [
    "plt.figure(figsize=(10,6))\n",
    "sns.scatterplot(x='pickup_longitude',y='pickup_latitude',data=trip_duration[trip_duration['trip_duration']<2000],hue='trip_duration')"
   ]
  },
  {
   "cell_type": "code",
   "execution_count": 11,
   "metadata": {},
   "outputs": [
    {
     "data": {
      "text/plain": [
       "<matplotlib.axes._subplots.AxesSubplot at 0x1dd00dc6f08>"
      ]
     },
     "execution_count": 11,
     "metadata": {},
     "output_type": "execute_result"
    },
    {
     "data": {
      "image/png": "[encoded data removed]",
      "text/plain": [
       "<Figure size 720x432 with 1 Axes>"
      ]
     },
     "metadata": {
      "needs_background": "light"
     },
     "output_type": "display_data"
    }
   ],
   "source": [
    "plt.figure(figsize=(10,6))\n",
    "sns.scatterplot(x='dropoff_longitude',y='dropoff_latitude',data=trip_duration[trip_duration['trip_duration']<2000],hue='trip_duration')"
   ]
  },
  {
   "cell_type": "code",
   "execution_count": 12,
   "metadata": {},
   "outputs": [],
   "source": [
    "from datetime import datetime\n",
    "trip_duration['pickup_datetime']=trip_duration['pickup_datetime'].apply(lambda x: datetime.strptime(x,\"%Y-%m-%d %H:%M:%S\"))"
   ]
  },
  {
   "cell_type": "code",
   "execution_count": 13,
   "metadata": {},
   "outputs": [],
   "source": [
    "trip_duration['dropoff_datetime']=trip_duration['dropoff_datetime'].apply(lambda x: datetime.strptime(x,\"%Y-%m-%d %H:%M:%S\"))"
   ]
  },
  {
   "cell_type": "code",
   "execution_count": 14,
   "metadata": {},
   "outputs": [],
   "source": [
    "trip_duration['pickup_month']=trip_duration['pickup_datetime'].apply(lambda date:date.month)"
   ]
  },
  {
   "cell_type": "code",
   "execution_count": 15,
   "metadata": {},
   "outputs": [],
   "source": [
    "trip_duration['dropoff_month']=trip_duration['dropoff_datetime'].apply(lambda date:date.month)"
   ]
  },
  {
   "cell_type": "code",
   "execution_count": 16,
   "metadata": {},
   "outputs": [
    {
     "data": {
      "text/plain": [
       "<matplotlib.axes._subplots.AxesSubplot at 0x1dd00e15ec8>"
      ]
     },
     "execution_count": 16,
     "metadata": {},
     "output_type": "execute_result"
    },
    {
     "data": {
      "image/png": "[encoded data removed]",
      "text/plain": [
       "<Figure size 432x288 with 1 Axes>"
      ]
     },
     "metadata": {
      "needs_background": "light"
     },
     "output_type": "display_data"
    }
   ],
   "source": [
    "sns.lineplot(x='pickup_month',y='trip_duration',data=trip_duration)"
   ]
  },
  {
   "cell_type": "code",
   "execution_count": 9,
   "metadata": {},
   "outputs": [
    {
     "data": {
      "text/plain": [
       "<matplotlib.axes._subplots.AxesSubplot at 0x2c11e471e08>"
      ]
     },
     "execution_count": 9,
     "metadata": {},
     "output_type": "execute_result"
    },
    {
     "data": {
      "image/png": "[encoded data removed]",
      "text/plain": [
       "<Figure size 432x288 with 1 Axes>"
      ]
     },
     "metadata": {
      "needs_background": "light"
     },
     "output_type": "display_data"
    }
   ],
   "source": [
    "sns.lineplot(x='dropoff_month',y='trip_duration',data=trip_duration[trip_duration['dropoff_month']<=6])"
   ]
  },
  {
   "cell_type": "code",
   "execution_count": 17,
   "metadata": {},
   "outputs": [],
   "source": [
    "trip_duration['pickup_hour']=trip_duration['pickup_datetime'].apply(lambda date:date.hour)"
   ]
  },
  {
   "cell_type": "code",
   "execution_count": 18,
   "metadata": {},
   "outputs": [],
   "source": [
    "trip_duration['dropoff_hour']=trip_duration['dropoff_datetime'].apply(lambda date:date.hour)"
   ]
  },
  {
   "cell_type": "code",
   "execution_count": 19,
   "metadata": {},
   "outputs": [],
   "source": [
    "store_fwd_flag = pd.get_dummies(trip_duration['store_and_fwd_flag'],drop_first=True)"
   ]
  },
  {
   "cell_type": "code",
   "execution_count": 20,
   "metadata": {},
   "outputs": [],
   "source": [
    "trip_duration.drop('store_and_fwd_flag',axis=1,inplace=True)"
   ]
  },
  {
   "cell_type": "code",
   "execution_count": 21,
   "metadata": {},
   "outputs": [],
   "source": [
    "trip_duration=pd.concat([trip_duration,store_fwd_flag],axis=1)"
   ]
  },
  {
   "cell_type": "code",
   "execution_count": 22,
   "metadata": {},
   "outputs": [],
   "source": [
    "vendor_id = pd.get_dummies(trip_duration['vendor_id'],drop_first=True)"
   ]
  },
  {
   "cell_type": "code",
   "execution_count": 23,
   "metadata": {},
   "outputs": [],
   "source": [
    "trip_duration.drop('vendor_id',axis=1,inplace=True)"
   ]
  },
  {
   "cell_type": "code",
   "execution_count": 24,
   "metadata": {},
   "outputs": [],
   "source": [
    "trip_duration=pd.concat([trip_duration,vendor_id],axis=1)"
   ]
  },
  {
   "cell_type": "code",
   "execution_count": 25,
   "metadata": {},
   "outputs": [],
   "source": [
    "passenger_count = pd.get_dummies(trip_duration['passenger_count'],drop_first=True)"
   ]
  },
  {
   "cell_type": "code",
   "execution_count": 26,
   "metadata": {},
   "outputs": [],
   "source": [
    "trip_duration.drop('passenger_count',axis=1,inplace=True)"
   ]
  },
  {
   "cell_type": "code",
   "execution_count": 27,
   "metadata": {},
   "outputs": [],
   "source": [
    "trip_duration=pd.concat([trip_duration,passenger_count],axis=1)"
   ]
  },
  {
   "cell_type": "code",
   "execution_count": 22,
   "metadata": {},
   "outputs": [
    {
     "data": {
      "text/html": [
       "<div>\n",
       "<style scoped>\n",
       "    .dataframe tbody tr th:only-of-type {\n",
       "        vertical-align: middle;\n",
       "    }\n",
       "\n",
       "    .dataframe tbody tr th {\n",
       "        vertical-align: top;\n",
       "    }\n",
       "\n",
       "    .dataframe thead th {\n",
       "        text-align: right;\n",
       "    }\n",
       "</style>\n",
       "<table border=\"1\" class=\"dataframe\">\n",
       "  <thead>\n",
       "    <tr style=\"text-align: right;\">\n",
       "      <th></th>\n",
       "      <th>id</th>\n",
       "      <th>pickup_datetime</th>\n",
       "      <th>dropoff_datetime</th>\n",
       "      <th>pickup_longitude</th>\n",
       "      <th>pickup_latitude</th>\n",
       "      <th>dropoff_longitude</th>\n",
       "      <th>dropoff_latitude</th>\n",
       "      <th>trip_duration</th>\n",
       "      <th>pickup_month</th>\n",
       "      <th>dropoff_month</th>\n",
       "      <th>...</th>\n",
       "      <th>2</th>\n",
       "      <th>1</th>\n",
       "      <th>2</th>\n",
       "      <th>3</th>\n",
       "      <th>4</th>\n",
       "      <th>5</th>\n",
       "      <th>6</th>\n",
       "      <th>7</th>\n",
       "      <th>8</th>\n",
       "      <th>9</th>\n",
       "    </tr>\n",
       "  </thead>\n",
       "  <tbody>\n",
       "    <tr>\n",
       "      <th>0</th>\n",
       "      <td>id2875421</td>\n",
       "      <td>2016-03-14 17:24:55</td>\n",
       "      <td>2016-03-14 17:32:30</td>\n",
       "      <td>-73.982155</td>\n",
       "      <td>40.767937</td>\n",
       "      <td>-73.964630</td>\n",
       "      <td>40.765602</td>\n",
       "      <td>455</td>\n",
       "      <td>3</td>\n",
       "      <td>3</td>\n",
       "      <td>...</td>\n",
       "      <td>1</td>\n",
       "      <td>1</td>\n",
       "      <td>0</td>\n",
       "      <td>0</td>\n",
       "      <td>0</td>\n",
       "      <td>0</td>\n",
       "      <td>0</td>\n",
       "      <td>0</td>\n",
       "      <td>0</td>\n",
       "      <td>0</td>\n",
       "    </tr>\n",
       "    <tr>\n",
       "      <th>1</th>\n",
       "      <td>id2377394</td>\n",
       "      <td>2016-06-12 00:43:35</td>\n",
       "      <td>2016-06-12 00:54:38</td>\n",
       "      <td>-73.980415</td>\n",
       "      <td>40.738564</td>\n",
       "      <td>-73.999481</td>\n",
       "      <td>40.731152</td>\n",
       "      <td>663</td>\n",
       "      <td>6</td>\n",
       "      <td>6</td>\n",
       "      <td>...</td>\n",
       "      <td>0</td>\n",
       "      <td>1</td>\n",
       "      <td>0</td>\n",
       "      <td>0</td>\n",
       "      <td>0</td>\n",
       "      <td>0</td>\n",
       "      <td>0</td>\n",
       "      <td>0</td>\n",
       "      <td>0</td>\n",
       "      <td>0</td>\n",
       "    </tr>\n",
       "    <tr>\n",
       "      <th>2</th>\n",
       "      <td>id3858529</td>\n",
       "      <td>2016-01-19 11:35:24</td>\n",
       "      <td>2016-01-19 12:10:48</td>\n",
       "      <td>-73.979027</td>\n",
       "      <td>40.763939</td>\n",
       "      <td>-74.005333</td>\n",
       "      <td>40.710087</td>\n",
       "      <td>2124</td>\n",
       "      <td>1</td>\n",
       "      <td>1</td>\n",
       "      <td>...</td>\n",
       "      <td>1</td>\n",
       "      <td>1</td>\n",
       "      <td>0</td>\n",
       "      <td>0</td>\n",
       "      <td>0</td>\n",
       "      <td>0</td>\n",
       "      <td>0</td>\n",
       "      <td>0</td>\n",
       "      <td>0</td>\n",
       "      <td>0</td>\n",
       "    </tr>\n",
       "    <tr>\n",
       "      <th>3</th>\n",
       "      <td>id3504673</td>\n",
       "      <td>2016-04-06 19:32:31</td>\n",
       "      <td>2016-04-06 19:39:40</td>\n",
       "      <td>-74.010040</td>\n",
       "      <td>40.719971</td>\n",
       "      <td>-74.012268</td>\n",
       "      <td>40.706718</td>\n",
       "      <td>429</td>\n",
       "      <td>4</td>\n",
       "      <td>4</td>\n",
       "      <td>...</td>\n",
       "      <td>1</td>\n",
       "      <td>1</td>\n",
       "      <td>0</td>\n",
       "      <td>0</td>\n",
       "      <td>0</td>\n",
       "      <td>0</td>\n",
       "      <td>0</td>\n",
       "      <td>0</td>\n",
       "      <td>0</td>\n",
       "      <td>0</td>\n",
       "    </tr>\n",
       "    <tr>\n",
       "      <th>4</th>\n",
       "      <td>id2181028</td>\n",
       "      <td>2016-03-26 13:30:55</td>\n",
       "      <td>2016-03-26 13:38:10</td>\n",
       "      <td>-73.973053</td>\n",
       "      <td>40.793209</td>\n",
       "      <td>-73.972923</td>\n",
       "      <td>40.782520</td>\n",
       "      <td>435</td>\n",
       "      <td>3</td>\n",
       "      <td>3</td>\n",
       "      <td>...</td>\n",
       "      <td>1</td>\n",
       "      <td>1</td>\n",
       "      <td>0</td>\n",
       "      <td>0</td>\n",
       "      <td>0</td>\n",
       "      <td>0</td>\n",
       "      <td>0</td>\n",
       "      <td>0</td>\n",
       "      <td>0</td>\n",
       "      <td>0</td>\n",
       "    </tr>\n",
       "  </tbody>\n",
       "</table>\n",
       "<p>5 rows × 22 columns</p>\n",
       "</div>"
      ],
      "text/plain": [
       "          id     pickup_datetime    dropoff_datetime  pickup_longitude  \\\n",
       "0  id2875421 2016-03-14 17:24:55 2016-03-14 17:32:30        -73.982155   \n",
       "1  id2377394 2016-06-12 00:43:35 2016-06-12 00:54:38        -73.980415   \n",
       "2  id3858529 2016-01-19 11:35:24 2016-01-19 12:10:48        -73.979027   \n",
       "3  id3504673 2016-04-06 19:32:31 2016-04-06 19:39:40        -74.010040   \n",
       "4  id2181028 2016-03-26 13:30:55 2016-03-26 13:38:10        -73.973053   \n",
       "\n",
       "   pickup_latitude  dropoff_longitude  dropoff_latitude  trip_duration  \\\n",
       "0        40.767937         -73.964630         40.765602            455   \n",
       "1        40.738564         -73.999481         40.731152            663   \n",
       "2        40.763939         -74.005333         40.710087           2124   \n",
       "3        40.719971         -74.012268         40.706718            429   \n",
       "4        40.793209         -73.972923         40.782520            435   \n",
       "\n",
       "   pickup_month  dropoff_month  ...  2  1  2  3  4  5  6  7  8  9  \n",
       "0             3              3  ...  1  1  0  0  0  0  0  0  0  0  \n",
       "1             6              6  ...  0  1  0  0  0  0  0  0  0  0  \n",
       "2             1              1  ...  1  1  0  0  0  0  0  0  0  0  \n",
       "3             4              4  ...  1  1  0  0  0  0  0  0  0  0  \n",
       "4             3              3  ...  1  1  0  0  0  0  0  0  0  0  \n",
       "\n",
       "[5 rows x 22 columns]"
      ]
     },
     "execution_count": 22,
     "metadata": {},
     "output_type": "execute_result"
    }
   ],
   "source": [
    "trip_duration.head() "
   ]
  },
  {
   "cell_type": "code",
   "execution_count": 25,
   "metadata": {},
   "outputs": [
    {
     "name": "stdout",
     "output_type": "stream",
     "text": [
      "0.9999362309647805\n"
     ]
    }
   ],
   "source": [
    "print(trip_duration['pickup_month'].corr(trip_duration['dropoff_month']))"
   ]
  },
  {
   "cell_type": "code",
   "execution_count": 28,
   "metadata": {},
   "outputs": [
    {
     "name": "stdout",
     "output_type": "stream",
     "text": [
      "0.9339773757926985\n"
     ]
    }
   ],
   "source": [
    "print(trip_duration['pickup_hour'].corr(trip_duration['dropoff_hour']))"
   ]
  },
  {
   "cell_type": "code",
   "execution_count": 13,
   "metadata": {},
   "outputs": [
    {
     "data": {
      "text/plain": [
       "<matplotlib.axes._subplots.AxesSubplot at 0x2c11e477688>"
      ]
     },
     "execution_count": 13,
     "metadata": {},
     "output_type": "execute_result"
    },
    {
     "data": {
      "image/png": "[encoded data removed]",
      "text/plain": [
       "<Figure size 432x288 with 1 Axes>"
      ]
     },
     "metadata": {
      "needs_background": "light"
     },
     "output_type": "display_data"
    }
   ],
   "source": [
    "sns.heatmap(trip_duration.isnull(),yticklabels=False,cbar=False,cmap='viridis')"
   ]
  },
  {
   "cell_type": "code",
   "execution_count": 34,
   "metadata": {},
   "outputs": [
    {
     "data": {
      "text/plain": [
       "<matplotlib.axes._subplots.AxesSubplot at 0x14587c65288>"
      ]
     },
     "execution_count": 34,
     "metadata": {},
     "output_type": "execute_result"
    },
    {
     "data": {
      "image/png": "[encoded data removed]",
      "text/plain": [
       "<Figure size 432x288 with 1 Axes>"
      ]
     },
     "metadata": {
      "needs_background": "light"
     },
     "output_type": "display_data"
    }
   ],
   "source": [
    "sns.countplot(x='pickup_hour',data=trip_duration,color='Green')"
   ]
  },
  {
   "cell_type": "code",
   "execution_count": 35,
   "metadata": {},
   "outputs": [
    {
     "data": {
      "text/plain": [
       "<matplotlib.axes._subplots.AxesSubplot at 0x14587d42848>"
      ]
     },
     "execution_count": 35,
     "metadata": {},
     "output_type": "execute_result"
    },
    {
     "data": {
      "image/png": "[encoded data removed]",
      "text/plain": [
       "<Figure size 432x288 with 1 Axes>"
      ]
     },
     "metadata": {
      "needs_background": "light"
     },
     "output_type": "display_data"
    }
   ],
   "source": [
    "sns.countplot(x='dropoff_hour',data=trip_duration,color='Green')"
   ]
  },
  {
   "cell_type": "code",
   "execution_count": 36,
   "metadata": {},
   "outputs": [
    {
     "data": {
      "text/plain": [
       "<matplotlib.axes._subplots.AxesSubplot at 0x1458a9c5248>"
      ]
     },
     "execution_count": 36,
     "metadata": {},
     "output_type": "execute_result"
    },
    {
     "data": {
      "image/png": "[encoded data removed]",
      "text/plain": [
       "<Figure size 432x288 with 1 Axes>"
      ]
     },
     "metadata": {
      "needs_background": "light"
     },
     "output_type": "display_data"
    }
   ],
   "source": [
    "sns.lineplot(x='pickup_hour',y='trip_duration',data=trip_duration)"
   ]
  },
  {
   "cell_type": "code",
   "execution_count": 37,
   "metadata": {},
   "outputs": [
    {
     "data": {
      "text/plain": [
       "<matplotlib.axes._subplots.AxesSubplot at 0x14587be5648>"
      ]
     },
     "execution_count": 37,
     "metadata": {},
     "output_type": "execute_result"
    },
    {
     "data": {
      "image/png": "[encoded data removed]",
      "text/plain": [
       "<Figure size 432x288 with 1 Axes>"
      ]
     },
     "metadata": {
      "needs_background": "light"
     },
     "output_type": "display_data"
    }
   ],
   "source": [
    "sns.lineplot(x='dropoff_hour',y='trip_duration',data=trip_duration)"
   ]
  },
  {
   "cell_type": "code",
   "execution_count": 41,
   "metadata": {},
   "outputs": [
    {
     "data": {
      "text/plain": [
       "<seaborn.axisgrid.PairGrid at 0x1462c7bcd08>"
      ]
     },
     "execution_count": 41,
     "metadata": {},
     "output_type": "execute_result"
    },
    {
     "data": {
      "image/png": "[encoded data removed]",
      "text/plain": [
       "<Figure size 1440x1440 with 72 Axes>"
      ]
     },
     "metadata": {
      "needs_background": "light"
     },
     "output_type": "display_data"
    }
   ],
   "source": [
    "sns.pairplot(trip_duration.drop(['vendor_id','id','pickup_datetime','dropoff_datetime','dropoff_month','passenger_count'],axis=1))"
   ]
  },
  {
   "cell_type": "code",
   "execution_count": 16,
   "metadata": {
    "scrolled": true
   },
   "outputs": [
    {
     "data": {
      "text/plain": [
       "<matplotlib.axes._subplots.AxesSubplot at 0x2c11d654b48>"
      ]
     },
     "execution_count": 16,
     "metadata": {},
     "output_type": "execute_result"
    },
    {
     "data": {
      "image/png": "[encoded data removed]",
      "text/plain": [
       "<Figure size 432x288 with 2 Axes>"
      ]
     },
     "metadata": {
      "needs_background": "light"
     },
     "output_type": "display_data"
    }
   ],
   "source": [
    "sns.heatmap(trip_duration.drop(['vendor_id','id','pickup_datetime','dropoff_datetime','dropoff_month'],axis=1).corr(),cmap='OrRd')"
   ]
  },
  {
   "cell_type": "code",
   "execution_count": 12,
   "metadata": {},
   "outputs": [
    {
     "data": {
      "text/plain": [
       "<matplotlib.axes._subplots.AxesSubplot at 0x238cefec588>"
      ]
     },
     "execution_count": 12,
     "metadata": {},
     "output_type": "execute_result"
    },
    {
     "data": {
      "image/png": "[encoded data removed]",
      "text/plain": [
       "<Figure size 432x288 with 1 Axes>"
      ]
     },
     "metadata": {
      "needs_background": "light"
     },
     "output_type": "display_data"
    }
   ],
   "source": [
    "sns.distplot(trip_duration[trip_duration['trip_duration']<3000]['trip_duration'],bins=30)"
   ]
  },
  {
   "cell_type": "code",
   "execution_count": 14,
   "metadata": {},
   "outputs": [
    {
     "data": {
      "text/plain": [
       "array([2, 1], dtype=int64)"
      ]
     },
     "execution_count": 14,
     "metadata": {},
     "output_type": "execute_result"
    }
   ],
   "source": []
  },
  {
   "cell_type": "code",
   "execution_count": 28,
   "metadata": {},
   "outputs": [],
   "source": [
    "trip_modified=trip_duration[trip_duration['trip_duration']<7000]"
   ]
  },
  {
   "cell_type": "code",
   "execution_count": 46,
   "metadata": {},
   "outputs": [
    {
     "data": {
      "text/html": [
       "<div>\n",
       "<style scoped>\n",
       "    .dataframe tbody tr th:only-of-type {\n",
       "        vertical-align: middle;\n",
       "    }\n",
       "\n",
       "    .dataframe tbody tr th {\n",
       "        vertical-align: top;\n",
       "    }\n",
       "\n",
       "    .dataframe thead th {\n",
       "        text-align: right;\n",
       "    }\n",
       "</style>\n",
       "<table border=\"1\" class=\"dataframe\">\n",
       "  <thead>\n",
       "    <tr style=\"text-align: right;\">\n",
       "      <th></th>\n",
       "      <th>vendor_id</th>\n",
       "      <th>passenger_count</th>\n",
       "      <th>pickup_longitude</th>\n",
       "      <th>pickup_latitude</th>\n",
       "      <th>dropoff_longitude</th>\n",
       "      <th>dropoff_latitude</th>\n",
       "      <th>trip_duration</th>\n",
       "      <th>pickup_month</th>\n",
       "      <th>dropoff_month</th>\n",
       "      <th>pickup_hour</th>\n",
       "    </tr>\n",
       "  </thead>\n",
       "  <tbody>\n",
       "    <tr>\n",
       "      <th>count</th>\n",
       "      <td>1.456374e+06</td>\n",
       "      <td>1.456374e+06</td>\n",
       "      <td>1.456374e+06</td>\n",
       "      <td>1.456374e+06</td>\n",
       "      <td>1.456374e+06</td>\n",
       "      <td>1.456374e+06</td>\n",
       "      <td>1.456374e+06</td>\n",
       "      <td>1.456374e+06</td>\n",
       "      <td>1.456374e+06</td>\n",
       "      <td>1.456374e+06</td>\n",
       "    </tr>\n",
       "    <tr>\n",
       "      <th>mean</th>\n",
       "      <td>1.534286e+00</td>\n",
       "      <td>1.663935e+00</td>\n",
       "      <td>-7.397350e+01</td>\n",
       "      <td>4.075093e+01</td>\n",
       "      <td>-7.397342e+01</td>\n",
       "      <td>4.075180e+01</td>\n",
       "      <td>8.360020e+02</td>\n",
       "      <td>3.516699e+00</td>\n",
       "      <td>3.517007e+00</td>\n",
       "      <td>1.360647e+01</td>\n",
       "    </tr>\n",
       "    <tr>\n",
       "      <th>std</th>\n",
       "      <td>4.988233e-01</td>\n",
       "      <td>1.313615e+00</td>\n",
       "      <td>7.090054e-02</td>\n",
       "      <td>3.285709e-02</td>\n",
       "      <td>7.063389e-02</td>\n",
       "      <td>3.587275e-02</td>\n",
       "      <td>6.539621e+02</td>\n",
       "      <td>1.681035e+00</td>\n",
       "      <td>1.681205e+00</td>\n",
       "      <td>6.399516e+00</td>\n",
       "    </tr>\n",
       "    <tr>\n",
       "      <th>min</th>\n",
       "      <td>1.000000e+00</td>\n",
       "      <td>0.000000e+00</td>\n",
       "      <td>-1.219333e+02</td>\n",
       "      <td>3.435970e+01</td>\n",
       "      <td>-1.219333e+02</td>\n",
       "      <td>3.218114e+01</td>\n",
       "      <td>1.000000e+00</td>\n",
       "      <td>1.000000e+00</td>\n",
       "      <td>1.000000e+00</td>\n",
       "      <td>0.000000e+00</td>\n",
       "    </tr>\n",
       "    <tr>\n",
       "      <th>25%</th>\n",
       "      <td>1.000000e+00</td>\n",
       "      <td>1.000000e+00</td>\n",
       "      <td>-7.399187e+01</td>\n",
       "      <td>4.073736e+01</td>\n",
       "      <td>-7.399133e+01</td>\n",
       "      <td>4.073589e+01</td>\n",
       "      <td>3.970000e+02</td>\n",
       "      <td>2.000000e+00</td>\n",
       "      <td>2.000000e+00</td>\n",
       "      <td>9.000000e+00</td>\n",
       "    </tr>\n",
       "    <tr>\n",
       "      <th>50%</th>\n",
       "      <td>2.000000e+00</td>\n",
       "      <td>1.000000e+00</td>\n",
       "      <td>-7.398174e+01</td>\n",
       "      <td>4.075411e+01</td>\n",
       "      <td>-7.397975e+01</td>\n",
       "      <td>4.075453e+01</td>\n",
       "      <td>6.610000e+02</td>\n",
       "      <td>4.000000e+00</td>\n",
       "      <td>4.000000e+00</td>\n",
       "      <td>1.400000e+01</td>\n",
       "    </tr>\n",
       "    <tr>\n",
       "      <th>75%</th>\n",
       "      <td>2.000000e+00</td>\n",
       "      <td>2.000000e+00</td>\n",
       "      <td>-7.396734e+01</td>\n",
       "      <td>4.076836e+01</td>\n",
       "      <td>-7.396302e+01</td>\n",
       "      <td>4.076981e+01</td>\n",
       "      <td>1.073000e+03</td>\n",
       "      <td>5.000000e+00</td>\n",
       "      <td>5.000000e+00</td>\n",
       "      <td>1.900000e+01</td>\n",
       "    </tr>\n",
       "    <tr>\n",
       "      <th>max</th>\n",
       "      <td>2.000000e+00</td>\n",
       "      <td>9.000000e+00</td>\n",
       "      <td>-6.133553e+01</td>\n",
       "      <td>5.188108e+01</td>\n",
       "      <td>-6.133553e+01</td>\n",
       "      <td>4.392103e+01</td>\n",
       "      <td>6.985000e+03</td>\n",
       "      <td>6.000000e+00</td>\n",
       "      <td>7.000000e+00</td>\n",
       "      <td>2.300000e+01</td>\n",
       "    </tr>\n",
       "  </tbody>\n",
       "</table>\n",
       "</div>"
      ],
      "text/plain": [
       "          vendor_id  passenger_count  pickup_longitude  pickup_latitude  \\\n",
       "count  1.456374e+06     1.456374e+06      1.456374e+06     1.456374e+06   \n",
       "mean   1.534286e+00     1.663935e+00     -7.397350e+01     4.075093e+01   \n",
       "std    4.988233e-01     1.313615e+00      7.090054e-02     3.285709e-02   \n",
       "min    1.000000e+00     0.000000e+00     -1.219333e+02     3.435970e+01   \n",
       "25%    1.000000e+00     1.000000e+00     -7.399187e+01     4.073736e+01   \n",
       "50%    2.000000e+00     1.000000e+00     -7.398174e+01     4.075411e+01   \n",
       "75%    2.000000e+00     2.000000e+00     -7.396734e+01     4.076836e+01   \n",
       "max    2.000000e+00     9.000000e+00     -6.133553e+01     5.188108e+01   \n",
       "\n",
       "       dropoff_longitude  dropoff_latitude  trip_duration  pickup_month  \\\n",
       "count       1.456374e+06      1.456374e+06   1.456374e+06  1.456374e+06   \n",
       "mean       -7.397342e+01      4.075180e+01   8.360020e+02  3.516699e+00   \n",
       "std         7.063389e-02      3.587275e-02   6.539621e+02  1.681035e+00   \n",
       "min        -1.219333e+02      3.218114e+01   1.000000e+00  1.000000e+00   \n",
       "25%        -7.399133e+01      4.073589e+01   3.970000e+02  2.000000e+00   \n",
       "50%        -7.397975e+01      4.075453e+01   6.610000e+02  4.000000e+00   \n",
       "75%        -7.396302e+01      4.076981e+01   1.073000e+03  5.000000e+00   \n",
       "max        -6.133553e+01      4.392103e+01   6.985000e+03  6.000000e+00   \n",
       "\n",
       "       dropoff_month   pickup_hour  \n",
       "count   1.456374e+06  1.456374e+06  \n",
       "mean    3.517007e+00  1.360647e+01  \n",
       "std     1.681205e+00  6.399516e+00  \n",
       "min     1.000000e+00  0.000000e+00  \n",
       "25%     2.000000e+00  9.000000e+00  \n",
       "50%     4.000000e+00  1.400000e+01  \n",
       "75%     5.000000e+00  1.900000e+01  \n",
       "max     7.000000e+00  2.300000e+01  "
      ]
     },
     "execution_count": 46,
     "metadata": {},
     "output_type": "execute_result"
    }
   ],
   "source": [
    "trip_modified.describe()"
   ]
  },
  {
   "cell_type": "code",
   "execution_count": 29,
   "metadata": {},
   "outputs": [],
   "source": [
    "X=trip_modified.drop(['id','trip_duration','pickup_datetime','dropoff_longitude','dropoff_latitude','dropoff_datetime','dropoff_month','dropoff_hour'],axis=1)\n",
    "y=trip_modified['trip_duration']"
   ]
  },
  {
   "cell_type": "code",
   "execution_count": 30,
   "metadata": {},
   "outputs": [],
   "source": [
    "from sklearn.model_selection import train_test_split"
   ]
  },
  {
   "cell_type": "code",
   "execution_count": 31,
   "metadata": {},
   "outputs": [],
   "source": [
    "X_train, X_test, y_train, y_test = train_test_split(X, y, test_size=0.33, random_state=101)"
   ]
  },
  {
   "cell_type": "code",
   "execution_count": 32,
   "metadata": {},
   "outputs": [
    {
     "data": {
      "text/html": [
       "<div>\n",
       "<style scoped>\n",
       "    .dataframe tbody tr th:only-of-type {\n",
       "        vertical-align: middle;\n",
       "    }\n",
       "\n",
       "    .dataframe tbody tr th {\n",
       "        vertical-align: top;\n",
       "    }\n",
       "\n",
       "    .dataframe thead th {\n",
       "        text-align: right;\n",
       "    }\n",
       "</style>\n",
       "<table border=\"1\" class=\"dataframe\">\n",
       "  <thead>\n",
       "    <tr style=\"text-align: right;\">\n",
       "      <th></th>\n",
       "      <th>passenger_count</th>\n",
       "      <th>pickup_longitude</th>\n",
       "      <th>pickup_latitude</th>\n",
       "      <th>dropoff_longitude</th>\n",
       "      <th>dropoff_latitude</th>\n",
       "      <th>pickup_month</th>\n",
       "      <th>pickup_hour</th>\n",
       "      <th>dropoff_hour</th>\n",
       "    </tr>\n",
       "  </thead>\n",
       "  <tbody>\n",
       "    <tr>\n",
       "      <th>0</th>\n",
       "      <td>1</td>\n",
       "      <td>-73.982155</td>\n",
       "      <td>40.767937</td>\n",
       "      <td>-73.964630</td>\n",
       "      <td>40.765602</td>\n",
       "      <td>3</td>\n",
       "      <td>17</td>\n",
       "      <td>17</td>\n",
       "    </tr>\n",
       "    <tr>\n",
       "      <th>1</th>\n",
       "      <td>1</td>\n",
       "      <td>-73.980415</td>\n",
       "      <td>40.738564</td>\n",
       "      <td>-73.999481</td>\n",
       "      <td>40.731152</td>\n",
       "      <td>6</td>\n",
       "      <td>0</td>\n",
       "      <td>0</td>\n",
       "    </tr>\n",
       "    <tr>\n",
       "      <th>2</th>\n",
       "      <td>1</td>\n",
       "      <td>-73.979027</td>\n",
       "      <td>40.763939</td>\n",
       "      <td>-74.005333</td>\n",
       "      <td>40.710087</td>\n",
       "      <td>1</td>\n",
       "      <td>11</td>\n",
       "      <td>12</td>\n",
       "    </tr>\n",
       "    <tr>\n",
       "      <th>3</th>\n",
       "      <td>1</td>\n",
       "      <td>-74.010040</td>\n",
       "      <td>40.719971</td>\n",
       "      <td>-74.012268</td>\n",
       "      <td>40.706718</td>\n",
       "      <td>4</td>\n",
       "      <td>19</td>\n",
       "      <td>19</td>\n",
       "    </tr>\n",
       "    <tr>\n",
       "      <th>4</th>\n",
       "      <td>1</td>\n",
       "      <td>-73.973053</td>\n",
       "      <td>40.793209</td>\n",
       "      <td>-73.972923</td>\n",
       "      <td>40.782520</td>\n",
       "      <td>3</td>\n",
       "      <td>13</td>\n",
       "      <td>13</td>\n",
       "    </tr>\n",
       "    <tr>\n",
       "      <th>...</th>\n",
       "      <td>...</td>\n",
       "      <td>...</td>\n",
       "      <td>...</td>\n",
       "      <td>...</td>\n",
       "      <td>...</td>\n",
       "      <td>...</td>\n",
       "      <td>...</td>\n",
       "      <td>...</td>\n",
       "    </tr>\n",
       "    <tr>\n",
       "      <th>1458639</th>\n",
       "      <td>4</td>\n",
       "      <td>-73.982201</td>\n",
       "      <td>40.745522</td>\n",
       "      <td>-73.994911</td>\n",
       "      <td>40.740170</td>\n",
       "      <td>4</td>\n",
       "      <td>13</td>\n",
       "      <td>13</td>\n",
       "    </tr>\n",
       "    <tr>\n",
       "      <th>1458640</th>\n",
       "      <td>1</td>\n",
       "      <td>-74.000946</td>\n",
       "      <td>40.747379</td>\n",
       "      <td>-73.970184</td>\n",
       "      <td>40.796547</td>\n",
       "      <td>1</td>\n",
       "      <td>7</td>\n",
       "      <td>7</td>\n",
       "    </tr>\n",
       "    <tr>\n",
       "      <th>1458641</th>\n",
       "      <td>1</td>\n",
       "      <td>-73.959129</td>\n",
       "      <td>40.768799</td>\n",
       "      <td>-74.004433</td>\n",
       "      <td>40.707371</td>\n",
       "      <td>4</td>\n",
       "      <td>6</td>\n",
       "      <td>7</td>\n",
       "    </tr>\n",
       "    <tr>\n",
       "      <th>1458642</th>\n",
       "      <td>1</td>\n",
       "      <td>-73.982079</td>\n",
       "      <td>40.749062</td>\n",
       "      <td>-73.974632</td>\n",
       "      <td>40.757107</td>\n",
       "      <td>1</td>\n",
       "      <td>15</td>\n",
       "      <td>16</td>\n",
       "    </tr>\n",
       "    <tr>\n",
       "      <th>1458643</th>\n",
       "      <td>1</td>\n",
       "      <td>-73.979538</td>\n",
       "      <td>40.781750</td>\n",
       "      <td>-73.972809</td>\n",
       "      <td>40.790585</td>\n",
       "      <td>4</td>\n",
       "      <td>14</td>\n",
       "      <td>14</td>\n",
       "    </tr>\n",
       "  </tbody>\n",
       "</table>\n",
       "<p>1456374 rows × 8 columns</p>\n",
       "</div>"
      ],
      "text/plain": [
       "         passenger_count  pickup_longitude  pickup_latitude  \\\n",
       "0                      1        -73.982155        40.767937   \n",
       "1                      1        -73.980415        40.738564   \n",
       "2                      1        -73.979027        40.763939   \n",
       "3                      1        -74.010040        40.719971   \n",
       "4                      1        -73.973053        40.793209   \n",
       "...                  ...               ...              ...   \n",
       "1458639                4        -73.982201        40.745522   \n",
       "1458640                1        -74.000946        40.747379   \n",
       "1458641                1        -73.959129        40.768799   \n",
       "1458642                1        -73.982079        40.749062   \n",
       "1458643                1        -73.979538        40.781750   \n",
       "\n",
       "         dropoff_longitude  dropoff_latitude  pickup_month  pickup_hour  \\\n",
       "0               -73.964630         40.765602             3           17   \n",
       "1               -73.999481         40.731152             6            0   \n",
       "2               -74.005333         40.710087             1           11   \n",
       "3               -74.012268         40.706718             4           19   \n",
       "4               -73.972923         40.782520             3           13   \n",
       "...                    ...               ...           ...          ...   \n",
       "1458639         -73.994911         40.740170             4           13   \n",
       "1458640         -73.970184         40.796547             1            7   \n",
       "1458641         -74.004433         40.707371             4            6   \n",
       "1458642         -73.974632         40.757107             1           15   \n",
       "1458643         -73.972809         40.790585             4           14   \n",
       "\n",
       "         dropoff_hour  \n",
       "0                  17  \n",
       "1                   0  \n",
       "2                  12  \n",
       "3                  19  \n",
       "4                  13  \n",
       "...               ...  \n",
       "1458639            13  \n",
       "1458640             7  \n",
       "1458641             7  \n",
       "1458642            16  \n",
       "1458643            14  \n",
       "\n",
       "[1456374 rows x 8 columns]"
      ]
     },
     "execution_count": 32,
     "metadata": {},
     "output_type": "execute_result"
    }
   ],
   "source": [
    "X"
   ]
  },
  {
   "cell_type": "code",
   "execution_count": 32,
   "metadata": {},
   "outputs": [],
   "source": [
    "from sklearn.preprocessing import MinMaxScaler"
   ]
  },
  {
   "cell_type": "code",
   "execution_count": 33,
   "metadata": {},
   "outputs": [],
   "source": [
    "scaler = MinMaxScaler()"
   ]
  },
  {
   "cell_type": "code",
   "execution_count": 34,
   "metadata": {},
   "outputs": [],
   "source": [
    "X_train= scaler.fit_transform(X_train)"
   ]
  },
  {
   "cell_type": "code",
   "execution_count": 35,
   "metadata": {},
   "outputs": [],
   "source": [
    "X_test = scaler.transform(X_test)"
   ]
  },
  {
   "cell_type": "code",
   "execution_count": 36,
   "metadata": {},
   "outputs": [],
   "source": [
    "from sklearn.linear_model import LinearRegression"
   ]
  },
  {
   "cell_type": "code",
   "execution_count": 37,
   "metadata": {},
   "outputs": [],
   "source": [
    "lm = LinearRegression()"
   ]
  },
  {
   "cell_type": "code",
   "execution_count": 28,
   "metadata": {},
   "outputs": [
    {
     "data": {
      "text/plain": [
       "LinearRegression(copy_X=True, fit_intercept=True, n_jobs=None, normalize=False)"
      ]
     },
     "execution_count": 28,
     "metadata": {},
     "output_type": "execute_result"
    }
   ],
   "source": [
    "lm.fit(X_train,y_train)"
   ]
  },
  {
   "cell_type": "code",
   "execution_count": 29,
   "metadata": {},
   "outputs": [
    {
     "name": "stdout",
     "output_type": "stream",
     "text": [
      "-45590.157472253624\n"
     ]
    }
   ],
   "source": [
    "print(lm.intercept_)"
   ]
  },
  {
   "cell_type": "code",
   "execution_count": 30,
   "metadata": {},
   "outputs": [
    {
     "data": {
      "text/html": [
       "<div>\n",
       "<style scoped>\n",
       "    .dataframe tbody tr th:only-of-type {\n",
       "        vertical-align: middle;\n",
       "    }\n",
       "\n",
       "    .dataframe tbody tr th {\n",
       "        vertical-align: top;\n",
       "    }\n",
       "\n",
       "    .dataframe thead th {\n",
       "        text-align: right;\n",
       "    }\n",
       "</style>\n",
       "<table border=\"1\" class=\"dataframe\">\n",
       "  <thead>\n",
       "    <tr style=\"text-align: right;\">\n",
       "      <th></th>\n",
       "      <th>Coefficient</th>\n",
       "    </tr>\n",
       "  </thead>\n",
       "  <tbody>\n",
       "    <tr>\n",
       "      <th>pickup_longitude</th>\n",
       "      <td>88862.936021</td>\n",
       "    </tr>\n",
       "    <tr>\n",
       "      <th>pickup_latitude</th>\n",
       "      <td>-70160.094808</td>\n",
       "    </tr>\n",
       "    <tr>\n",
       "      <th>pickup_month</th>\n",
       "      <td>112.274547</td>\n",
       "    </tr>\n",
       "    <tr>\n",
       "      <th>pickup_hour</th>\n",
       "      <td>67.588522</td>\n",
       "    </tr>\n",
       "    <tr>\n",
       "      <th>Y</th>\n",
       "      <td>220.817385</td>\n",
       "    </tr>\n",
       "    <tr>\n",
       "      <th>2</th>\n",
       "      <td>9.507439</td>\n",
       "    </tr>\n",
       "    <tr>\n",
       "      <th>1</th>\n",
       "      <td>659.905398</td>\n",
       "    </tr>\n",
       "    <tr>\n",
       "      <th>2</th>\n",
       "      <td>706.075899</td>\n",
       "    </tr>\n",
       "    <tr>\n",
       "      <th>3</th>\n",
       "      <td>696.317657</td>\n",
       "    </tr>\n",
       "    <tr>\n",
       "      <th>4</th>\n",
       "      <td>714.549536</td>\n",
       "    </tr>\n",
       "    <tr>\n",
       "      <th>5</th>\n",
       "      <td>671.725129</td>\n",
       "    </tr>\n",
       "    <tr>\n",
       "      <th>6</th>\n",
       "      <td>669.479277</td>\n",
       "    </tr>\n",
       "    <tr>\n",
       "      <th>7</th>\n",
       "      <td>-273.357716</td>\n",
       "    </tr>\n",
       "    <tr>\n",
       "      <th>8</th>\n",
       "      <td>129.340491</td>\n",
       "    </tr>\n",
       "    <tr>\n",
       "      <th>9</th>\n",
       "      <td>-358.020030</td>\n",
       "    </tr>\n",
       "  </tbody>\n",
       "</table>\n",
       "</div>"
      ],
      "text/plain": [
       "                   Coefficient\n",
       "pickup_longitude  88862.936021\n",
       "pickup_latitude  -70160.094808\n",
       "pickup_month        112.274547\n",
       "pickup_hour          67.588522\n",
       "Y                   220.817385\n",
       "2                     9.507439\n",
       "1                   659.905398\n",
       "2                   706.075899\n",
       "3                   696.317657\n",
       "4                   714.549536\n",
       "5                   671.725129\n",
       "6                   669.479277\n",
       "7                  -273.357716\n",
       "8                   129.340491\n",
       "9                  -358.020030"
      ]
     },
     "execution_count": 30,
     "metadata": {},
     "output_type": "execute_result"
    }
   ],
   "source": [
    "coeff_df = pd.DataFrame(lm.coef_,X.columns,columns=['Coefficient'])\n",
    "coeff_df"
   ]
  },
  {
   "cell_type": "code",
   "execution_count": 31,
   "metadata": {},
   "outputs": [],
   "source": [
    "prediction = lm.predict(X_test)"
   ]
  },
  {
   "cell_type": "code",
   "execution_count": 34,
   "metadata": {},
   "outputs": [
    {
     "data": {
      "text/plain": [
       "[<matplotlib.lines.Line2D at 0x135c0bb7108>]"
      ]
     },
     "execution_count": 34,
     "metadata": {},
     "output_type": "execute_result"
    },
    {
     "data": {
      "image/png": "[encoded data removed]",
      "text/plain": [
       "<Figure size 432x288 with 1 Axes>"
      ]
     },
     "metadata": {
      "needs_background": "light"
     },
     "output_type": "display_data"
    }
   ],
   "source": [
    "plt.scatter(y_test,prediction)\n",
    "plt.ylim(0,7000)\n",
    "plt.xlim(0,7000)\n",
    "plt.plot(y_test,y_test,'r')"
   ]
  },
  {
   "cell_type": "code",
   "execution_count": 35,
   "metadata": {},
   "outputs": [
    {
     "data": {
      "text/plain": [
       "(975770, 15)"
      ]
     },
     "execution_count": 35,
     "metadata": {},
     "output_type": "execute_result"
    }
   ],
   "source": [
    "X_train.shape"
   ]
  },
  {
   "cell_type": "code",
   "execution_count": 36,
   "metadata": {},
   "outputs": [
    {
     "data": {
      "text/plain": [
       "(480604, 15)"
      ]
     },
     "execution_count": 36,
     "metadata": {},
     "output_type": "execute_result"
    }
   ],
   "source": [
    "X_test.shape"
   ]
  },
  {
   "cell_type": "code",
   "execution_count": 38,
   "metadata": {},
   "outputs": [],
   "source": [
    "from tensorflow.keras.models import Sequential\n",
    "from tensorflow.keras.layers import Dense, Activation\n",
    "from tensorflow.keras.optimizers import Adam"
   ]
  },
  {
   "cell_type": "code",
   "execution_count": 39,
   "metadata": {},
   "outputs": [],
   "source": [
    "model = Sequential()\n",
    "\n",
    "model.add(Dense(15,activation='relu'))\n",
    "model.add(Dense(6,activation='relu'))\n",
    "#model.add(Dense(4,activation='relu'))\n",
    "model.add(Dense(4,activation='relu'))\n",
    "model.add(Dense(1))\n",
    "\n",
    "model.compile(optimizer='adam',loss='mse')"
   ]
  },
  {
   "cell_type": "code",
   "execution_count": 40,
   "metadata": {},
   "outputs": [],
   "source": [
    "from tensorflow.keras.callbacks import EarlyStopping"
   ]
  },
  {
   "cell_type": "code",
   "execution_count": 41,
   "metadata": {},
   "outputs": [],
   "source": [
    "early_stop = EarlyStopping(monitor='val_loss', mode='min', verbose=1, patience=25)"
   ]
  },
  {
   "cell_type": "code",
   "execution_count": 42,
   "metadata": {},
   "outputs": [
    {
     "name": "stdout",
     "output_type": "stream",
     "text": [
      "Epoch 1/600\n",
      "30493/30493 [==============================] - 73s 2ms/step - loss: 440163.1250 - val_loss: 427054.8125\n",
      "Epoch 2/600\n",
      "30493/30493 [==============================] - 70s 2ms/step - loss: 423297.5000 - val_loss: 425446.2188\n",
      "Epoch 3/600\n",
      "30493/30493 [==============================] - 70s 2ms/step - loss: 421515.6562 - val_loss: 423776.3750\n",
      "Epoch 4/600\n",
      "30493/30493 [==============================] - 66s 2ms/step - loss: 420248.3438 - val_loss: 423242.0312\n",
      "Epoch 5/600\n",
      "30493/30493 [==============================] - 67s 2ms/step - loss: 419751.9688 - val_loss: 422819.9062\n",
      "Epoch 6/600\n",
      "30493/30493 [==============================] - 68s 2ms/step - loss: 419573.4688 - val_loss: 422556.6250\n",
      "Epoch 7/600\n",
      "30493/30493 [==============================] - 247s 8ms/step - loss: 419529.0625 - val_loss: 422742.8438\n",
      "Epoch 8/600\n",
      "30493/30493 [==============================] - 72s 2ms/step - loss: 419473.5000 - val_loss: 422611.1875\n",
      "Epoch 9/600\n",
      "30493/30493 [==============================] - 39s 1ms/step - loss: 419452.1562 - val_loss: 422795.4688\n",
      "Epoch 10/600\n",
      "30493/30493 [==============================] - 51s 2ms/step - loss: 419402.6562 - val_loss: 422425.1250\n",
      "Epoch 11/600\n",
      "30493/30493 [==============================] - 54s 2ms/step - loss: 419352.0625 - val_loss: 422338.5938\n",
      "Epoch 12/600\n",
      "30493/30493 [==============================] - 47s 2ms/step - loss: 419317.9062 - val_loss: 422372.2500\n",
      "Epoch 13/600\n",
      "30493/30493 [==============================] - 34s 1ms/step - loss: 419280.3125 - val_loss: 422387.0938\n",
      "Epoch 14/600\n",
      "30493/30493 [==============================] - 24s 801us/step - loss: 419225.6875 - val_loss: 422192.0000\n",
      "Epoch 15/600\n",
      "30493/30493 [==============================] - 25s 805us/step - loss: 419167.1562 - val_loss: 422116.0312\n",
      "Epoch 16/600\n",
      "30493/30493 [==============================] - 36s 1ms/step - loss: 419138.0938 - val_loss: 422710.1250\n",
      "Epoch 17/600\n",
      "30493/30493 [==============================] - 34s 1ms/step - loss: 419072.7812 - val_loss: 422152.3750\n",
      "Epoch 18/600\n",
      "30493/30493 [==============================] - 38s 1ms/step - loss: 419033.2188 - val_loss: 422077.8125\n",
      "Epoch 19/600\n",
      "30493/30493 [==============================] - 33s 1ms/step - loss: 418958.0625 - val_loss: 421860.9688\n",
      "Epoch 20/600\n",
      "30493/30493 [==============================] - 35s 1ms/step - loss: 418896.1875 - val_loss: 421859.0000\n",
      "Epoch 21/600\n",
      "30493/30493 [==============================] - 46s 2ms/step - loss: 418768.1562 - val_loss: 421711.0938\n",
      "Epoch 22/600\n",
      "30493/30493 [==============================] - 42s 1ms/step - loss: 418669.6250 - val_loss: 421901.6250\n",
      "Epoch 23/600\n",
      "30493/30493 [==============================] - 34s 1ms/step - loss: 418571.2812 - val_loss: 421409.6562\n",
      "Epoch 24/600\n",
      "30493/30493 [==============================] - 32s 1ms/step - loss: 418429.6562 - val_loss: 421365.9062\n",
      "Epoch 25/600\n",
      "30493/30493 [==============================] - 32s 1ms/step - loss: 418283.8125 - val_loss: 421092.5625\n",
      "Epoch 26/600\n",
      "30493/30493 [==============================] - 32s 1ms/step - loss: 418123.0938 - val_loss: 422105.3125\n",
      "Epoch 27/600\n",
      "30493/30493 [==============================] - 32s 1ms/step - loss: 417964.7812 - val_loss: 421057.9688\n",
      "Epoch 28/600\n",
      "30493/30493 [==============================] - 33s 1ms/step - loss: 417708.5312 - val_loss: 420905.5625\n",
      "Epoch 29/600\n",
      "30493/30493 [==============================] - 41s 1ms/step - loss: 417439.0000 - val_loss: 420071.2812\n",
      "Epoch 30/600\n",
      "30493/30493 [==============================] - 30s 978us/step - loss: 417051.4688 - val_loss: 419855.1562\n",
      "Epoch 31/600\n",
      "30493/30493 [==============================] - 32s 1ms/step - loss: 416656.8750 - val_loss: 419297.8438\n",
      "Epoch 32/600\n",
      "30493/30493 [==============================] - 46s 1ms/step - loss: 416109.5000 - val_loss: 418566.6562\n",
      "Epoch 33/600\n",
      "30493/30493 [==============================] - 36s 1ms/step - loss: 415499.0312 - val_loss: 418008.8438\n",
      "Epoch 34/600\n",
      "30493/30493 [==============================] - 35s 1ms/step - loss: 414622.7188 - val_loss: 416928.9375\n",
      "Epoch 35/600\n",
      "30493/30493 [==============================] - 36s 1ms/step - loss: 413338.3438 - val_loss: 415498.0312\n",
      "Epoch 36/600\n",
      "30493/30493 [==============================] - 35s 1ms/step - loss: 411157.9688 - val_loss: 412092.1562\n",
      "Epoch 37/600\n",
      "30493/30493 [==============================] - 34s 1ms/step - loss: 407351.1875 - val_loss: 408966.6562\n",
      "Epoch 38/600\n",
      "30493/30493 [==============================] - 26s 867us/step - loss: 402457.3750 - val_loss: 401198.1875\n",
      "Epoch 39/600\n",
      "30493/30493 [==============================] - 26s 866us/step - loss: 397656.9688 - val_loss: 399054.4688\n",
      "Epoch 40/600\n",
      "30493/30493 [==============================] - 28s 915us/step - loss: 394246.5625 - val_loss: 394682.6875\n",
      "Epoch 41/600\n",
      "30493/30493 [==============================] - 27s 885us/step - loss: 391112.8125 - val_loss: 393056.0938\n",
      "Epoch 42/600\n",
      "30493/30493 [==============================] - 30s 999us/step - loss: 390249.4688 - val_loss: 393225.3750\n",
      "Epoch 43/600\n",
      "30493/30493 [==============================] - 37s 1ms/step - loss: 388382.3438 - val_loss: 400859.3750\n",
      "Epoch 44/600\n",
      "30493/30493 [==============================] - 36s 1ms/step - loss: 389803.0312 - val_loss: 396085.6562\n",
      "Epoch 45/600\n",
      "30493/30493 [==============================] - 37s 1ms/step - loss: 390161.2812 - val_loss: 395761.9375\n",
      "Epoch 46/600\n",
      "30493/30493 [==============================] - 36s 1ms/step - loss: 390395.7812 - val_loss: 395535.6562\n",
      "Epoch 47/600\n",
      "30493/30493 [==============================] - 33s 1ms/step - loss: 392757.7812 - val_loss: 398695.6875\n",
      "Epoch 48/600\n",
      "30493/30493 [==============================] - 34s 1ms/step - loss: 394019.3750 - val_loss: 404982.5000\n",
      "Epoch 49/600\n",
      "30493/30493 [==============================] - 34s 1ms/step - loss: 394170.6562 - val_loss: 405504.4062\n",
      "Epoch 50/600\n",
      "30493/30493 [==============================] - 38s 1ms/step - loss: 394574.0625 - val_loss: 403954.6562\n",
      "Epoch 51/600\n",
      "30493/30493 [==============================] - 36s 1ms/step - loss: 393569.1875 - val_loss: 406086.5000\n",
      "Epoch 52/600\n",
      "30493/30493 [==============================] - 34s 1ms/step - loss: 393484.0938 - val_loss: 398710.3125\n",
      "Epoch 53/600\n",
      "30493/30493 [==============================] - 42s 1ms/step - loss: 392485.2188 - val_loss: 396129.5312\n",
      "Epoch 54/600\n",
      "30493/30493 [==============================] - 47s 2ms/step - loss: 390178.7500 - val_loss: 397631.6875\n",
      "Epoch 55/600\n",
      "30493/30493 [==============================] - 35s 1ms/step - loss: 389982.6875 - val_loss: 393547.4062\n",
      "Epoch 56/600\n",
      "30493/30493 [==============================] - 35s 1ms/step - loss: 388825.0312 - val_loss: 392990.3438\n",
      "Epoch 57/600\n",
      "30493/30493 [==============================] - 35s 1ms/step - loss: 387690.6250 - val_loss: 394651.3125\n",
      "Epoch 58/600\n",
      "30493/30493 [==============================] - 39s 1ms/step - loss: 386196.9375 - val_loss: 391671.4062\n",
      "Epoch 59/600\n",
      "30493/30493 [==============================] - 53s 2ms/step - loss: 384969.3125 - val_loss: 388889.3750\n",
      "Epoch 60/600\n",
      "30493/30493 [==============================] - 42s 1ms/step - loss: 383938.2500 - val_loss: 389529.4062\n",
      "Epoch 61/600\n",
      "30493/30493 [==============================] - 46s 1ms/step - loss: 382919.1562 - val_loss: 387748.0938\n",
      "Epoch 62/600\n",
      "30493/30493 [==============================] - 46s 2ms/step - loss: 381220.8438 - val_loss: 384684.5000\n",
      "Epoch 63/600\n",
      "30493/30493 [==============================] - 51s 2ms/step - loss: 380300.0625 - val_loss: 386539.1250\n",
      "Epoch 64/600\n",
      "30493/30493 [==============================] - 43s 1ms/step - loss: 379375.3438 - val_loss: 381578.3438\n",
      "Epoch 65/600\n",
      "30493/30493 [==============================] - 41s 1ms/step - loss: 377797.5000 - val_loss: 383978.4688\n",
      "Epoch 66/600\n",
      "30493/30493 [==============================] - 40s 1ms/step - loss: 377214.9375 - val_loss: 379531.9375\n",
      "Epoch 67/600\n",
      "30493/30493 [==============================] - 33s 1ms/step - loss: 375997.5312 - val_loss: 377288.3125\n",
      "Epoch 68/600\n",
      "30493/30493 [==============================] - 40s 1ms/step - loss: 374923.6562 - val_loss: 377315.6875\n",
      "Epoch 69/600\n",
      "30493/30493 [==============================] - 43s 1ms/step - loss: 374085.1875 - val_loss: 374681.2500\n",
      "Epoch 70/600\n",
      "30493/30493 [==============================] - 40s 1ms/step - loss: 372981.9375 - val_loss: 375932.3750\n"
     ]
    },
    {
     "name": "stdout",
     "output_type": "stream",
     "text": [
      "Epoch 71/600\n",
      "30493/30493 [==============================] - 40s 1ms/step - loss: 371865.9688 - val_loss: 390198.4062\n",
      "Epoch 72/600\n",
      "30493/30493 [==============================] - 45s 1ms/step - loss: 371216.9375 - val_loss: 407296.9375\n",
      "Epoch 73/600\n",
      "30493/30493 [==============================] - 42s 1ms/step - loss: 370217.0312 - val_loss: 373919.2812\n",
      "Epoch 74/600\n",
      "30493/30493 [==============================] - 38s 1ms/step - loss: 369840.6875 - val_loss: 372614.7188\n",
      "Epoch 75/600\n",
      "30493/30493 [==============================] - 37s 1ms/step - loss: 369271.2812 - val_loss: 370696.5625\n",
      "Epoch 76/600\n",
      "30493/30493 [==============================] - 39s 1ms/step - loss: 368934.2188 - val_loss: 369305.3750\n",
      "Epoch 77/600\n",
      "30493/30493 [==============================] - 38s 1ms/step - loss: 368203.7500 - val_loss: 369102.1562\n",
      "Epoch 78/600\n",
      "30493/30493 [==============================] - 42s 1ms/step - loss: 367915.9062 - val_loss: 367870.6875\n",
      "Epoch 79/600\n",
      "30493/30493 [==============================] - 42s 1ms/step - loss: 367180.4688 - val_loss: 368384.8125\n",
      "Epoch 80/600\n",
      "30493/30493 [==============================] - 40s 1ms/step - loss: 366816.7188 - val_loss: 376375.9375\n",
      "Epoch 81/600\n",
      "30493/30493 [==============================] - 47s 2ms/step - loss: 366703.8125 - val_loss: 368541.8438\n",
      "Epoch 82/600\n",
      "30493/30493 [==============================] - 47s 2ms/step - loss: 366027.5000 - val_loss: 371415.7812\n",
      "Epoch 83/600\n",
      "30493/30493 [==============================] - 39s 1ms/step - loss: 365800.9688 - val_loss: 367035.9062\n",
      "Epoch 84/600\n",
      "30493/30493 [==============================] - 38s 1ms/step - loss: 365748.8750 - val_loss: 368362.9375\n",
      "Epoch 85/600\n",
      "30493/30493 [==============================] - 40s 1ms/step - loss: 365637.2188 - val_loss: 366120.1250\n",
      "Epoch 86/600\n",
      "30493/30493 [==============================] - 39s 1ms/step - loss: 365242.7812 - val_loss: 365672.7188\n",
      "Epoch 87/600\n",
      "30493/30493 [==============================] - 40s 1ms/step - loss: 365323.6562 - val_loss: 368011.7188\n",
      "Epoch 88/600\n",
      "30493/30493 [==============================] - 39s 1ms/step - loss: 364912.1875 - val_loss: 367110.5938\n",
      "Epoch 89/600\n",
      "30493/30493 [==============================] - 39s 1ms/step - loss: 364862.4062 - val_loss: 368440.8438\n",
      "Epoch 90/600\n",
      "30493/30493 [==============================] - 41s 1ms/step - loss: 364748.3438 - val_loss: 365287.0938\n",
      "Epoch 91/600\n",
      "30493/30493 [==============================] - 47s 2ms/step - loss: 364429.7188 - val_loss: 372785.8750\n",
      "Epoch 92/600\n",
      "30493/30493 [==============================] - 44s 1ms/step - loss: 364447.5000 - val_loss: 364851.5312\n",
      "Epoch 93/600\n",
      "30493/30493 [==============================] - 45s 1ms/step - loss: 364280.9375 - val_loss: 380667.6875\n",
      "Epoch 94/600\n",
      "30493/30493 [==============================] - 36s 1ms/step - loss: 363971.0938 - val_loss: 364564.7812\n",
      "Epoch 95/600\n",
      "30493/30493 [==============================] - 33s 1ms/step - loss: 363797.1562 - val_loss: 379827.0000\n",
      "Epoch 96/600\n",
      "30493/30493 [==============================] - 38s 1ms/step - loss: 363864.1250 - val_loss: 365681.1250\n",
      "Epoch 97/600\n",
      "30493/30493 [==============================] - 40s 1ms/step - loss: 363830.2188 - val_loss: 364350.3750\n",
      "Epoch 98/600\n",
      "30493/30493 [==============================] - 41s 1ms/step - loss: 363892.9688 - val_loss: 363410.4062\n",
      "Epoch 99/600\n",
      "30493/30493 [==============================] - 40s 1ms/step - loss: 363474.0938 - val_loss: 365768.9375\n",
      "Epoch 100/600\n",
      "30493/30493 [==============================] - 47s 2ms/step - loss: 363820.7812 - val_loss: 369106.3125\n",
      "Epoch 101/600\n",
      "30493/30493 [==============================] - 43s 1ms/step - loss: 363700.0312 - val_loss: 383495.7188\n",
      "Epoch 102/600\n",
      "30493/30493 [==============================] - 42s 1ms/step - loss: 363592.6250 - val_loss: 368366.5312\n",
      "Epoch 103/600\n",
      "30493/30493 [==============================] - 41s 1ms/step - loss: 363514.2188 - val_loss: 363876.6562\n",
      "Epoch 104/600\n",
      "30493/30493 [==============================] - 42s 1ms/step - loss: 363206.0938 - val_loss: 365622.9688\n",
      "Epoch 105/600\n",
      "30493/30493 [==============================] - 41s 1ms/step - loss: 363406.0312 - val_loss: 368327.9688\n",
      "Epoch 106/600\n",
      "30493/30493 [==============================] - 44s 1ms/step - loss: 363060.3125 - val_loss: 366065.0625\n",
      "Epoch 107/600\n",
      "30493/30493 [==============================] - 39s 1ms/step - loss: 363167.8750 - val_loss: 367623.1250\n",
      "Epoch 108/600\n",
      "30493/30493 [==============================] - 40s 1ms/step - loss: 363407.2812 - val_loss: 364994.5625\n",
      "Epoch 109/600\n",
      "30493/30493 [==============================] - 45s 1ms/step - loss: 363382.9375 - val_loss: 371840.0625\n",
      "Epoch 110/600\n",
      "30493/30493 [==============================] - 48s 2ms/step - loss: 363446.7500 - val_loss: 364425.0938\n",
      "Epoch 111/600\n",
      "30493/30493 [==============================] - 43s 1ms/step - loss: 363261.0312 - val_loss: 363177.8750\n",
      "Epoch 112/600\n",
      "30493/30493 [==============================] - 42s 1ms/step - loss: 363239.9688 - val_loss: 364385.6875\n",
      "Epoch 113/600\n",
      "30493/30493 [==============================] - 41s 1ms/step - loss: 363382.4375 - val_loss: 363700.9375\n",
      "Epoch 114/600\n",
      "30493/30493 [==============================] - 41s 1ms/step - loss: 363566.3750 - val_loss: 364593.9688\n",
      "Epoch 115/600\n",
      "30493/30493 [==============================] - 40s 1ms/step - loss: 363107.9688 - val_loss: 367874.4688\n",
      "Epoch 116/600\n",
      "30493/30493 [==============================] - 39s 1ms/step - loss: 363430.1562 - val_loss: 363418.9062\n",
      "Epoch 117/600\n",
      "30493/30493 [==============================] - 40s 1ms/step - loss: 363203.9688 - val_loss: 363283.9688\n",
      "Epoch 118/600\n",
      "30493/30493 [==============================] - 42s 1ms/step - loss: 363153.9688 - val_loss: 364082.9375\n",
      "Epoch 119/600\n",
      "30493/30493 [==============================] - 47s 2ms/step - loss: 362874.2188 - val_loss: 365485.9062\n",
      "Epoch 120/600\n",
      "30493/30493 [==============================] - 43s 1ms/step - loss: 363035.0938 - val_loss: 374275.1875\n",
      "Epoch 121/600\n",
      "30493/30493 [==============================] - 38s 1ms/step - loss: 363017.4062 - val_loss: 371203.3125\n",
      "Epoch 122/600\n",
      "30493/30493 [==============================] - 38s 1ms/step - loss: 362928.3125 - val_loss: 369810.6250\n",
      "Epoch 123/600\n",
      "30493/30493 [==============================] - 39s 1ms/step - loss: 362879.3125 - val_loss: 364217.0938\n",
      "Epoch 124/600\n",
      "30493/30493 [==============================] - 39s 1ms/step - loss: 362969.4062 - val_loss: 363823.1562\n",
      "Epoch 125/600\n",
      "30493/30493 [==============================] - 39s 1ms/step - loss: 362839.2188 - val_loss: 363721.6562\n",
      "Epoch 126/600\n",
      "30493/30493 [==============================] - 42s 1ms/step - loss: 362785.6562 - val_loss: 374462.0625\n",
      "Epoch 127/600\n",
      "30493/30493 [==============================] - 39s 1ms/step - loss: 362426.8438 - val_loss: 364973.7188\n",
      "Epoch 128/600\n",
      "30493/30493 [==============================] - 37s 1ms/step - loss: 362800.6875 - val_loss: 363975.0000\n",
      "Epoch 129/600\n",
      "30493/30493 [==============================] - 37s 1ms/step - loss: 362584.5938 - val_loss: 364018.8125\n",
      "Epoch 130/600\n",
      "30493/30493 [==============================] - 33s 1ms/step - loss: 362475.7188 - val_loss: 363064.9062\n",
      "Epoch 131/600\n",
      "30493/30493 [==============================] - 31s 1ms/step - loss: 362473.0625 - val_loss: 366191.7812\n",
      "Epoch 132/600\n",
      "30493/30493 [==============================] - 30s 997us/step - loss: 362495.8750 - val_loss: 365583.2188\n",
      "Epoch 133/600\n",
      "30493/30493 [==============================] - 31s 1ms/step - loss: 362520.9062 - val_loss: 366168.7500\n",
      "Epoch 134/600\n",
      "30493/30493 [==============================] - 34s 1ms/step - loss: 362605.1875 - val_loss: 368589.6250\n",
      "Epoch 135/600\n",
      "30493/30493 [==============================] - 34s 1ms/step - loss: 362527.4062 - val_loss: 371965.4062\n",
      "Epoch 136/600\n",
      "30493/30493 [==============================] - 33s 1ms/step - loss: 362725.0625 - val_loss: 366063.1875\n",
      "Epoch 137/600\n",
      "30493/30493 [==============================] - 33s 1ms/step - loss: 362594.4062 - val_loss: 365034.9062\n",
      "Epoch 138/600\n",
      "30493/30493 [==============================] - 33s 1ms/step - loss: 362493.4062 - val_loss: 376058.6250\n",
      "Epoch 139/600\n",
      "30493/30493 [==============================] - 34s 1ms/step - loss: 362397.8750 - val_loss: 362873.5000\n",
      "Epoch 140/600\n",
      "30493/30493 [==============================] - 40s 1ms/step - loss: 362508.4375 - val_loss: 364943.6562\n",
      "Epoch 141/600\n",
      "30493/30493 [==============================] - 38s 1ms/step - loss: 362450.3438 - val_loss: 364247.7500\n",
      "Epoch 142/600\n",
      "30493/30493 [==============================] - 32s 1ms/step - loss: 362244.1250 - val_loss: 364100.9062\n",
      "Epoch 143/600\n",
      "30493/30493 [==============================] - 32s 1ms/step - loss: 362456.5938 - val_loss: 362526.9688\n",
      "Epoch 144/600\n",
      "30493/30493 [==============================] - 31s 1ms/step - loss: 362119.1562 - val_loss: 364289.0625\n",
      "Epoch 145/600\n",
      "30493/30493 [==============================] - 34s 1ms/step - loss: 362385.5312 - val_loss: 368989.3125\n",
      "Epoch 146/600\n",
      "30493/30493 [==============================] - 32s 1ms/step - loss: 362341.5312 - val_loss: 363488.2500\n",
      "Epoch 147/600\n",
      "30493/30493 [==============================] - 73s 2ms/step - loss: 362699.0938 - val_loss: 362538.9375\n",
      "Epoch 148/600\n",
      "30493/30493 [==============================] - 80s 3ms/step - loss: 362517.0312 - val_loss: 363713.0312\n",
      "Epoch 149/600\n",
      "30493/30493 [==============================] - 688s 23ms/step - loss: 362118.2188 - val_loss: 364208.3438\n",
      "Epoch 150/600\n",
      "30493/30493 [==============================] - 84s 3ms/step - loss: 362217.3438 - val_loss: 362303.9062\n",
      "Epoch 151/600\n",
      "30493/30493 [==============================] - 84s 3ms/step - loss: 362089.5625 - val_loss: 364734.0312\n",
      "Epoch 152/600\n",
      "30493/30493 [==============================] - 83s 3ms/step - loss: 362155.2188 - val_loss: 363105.9375\n",
      "Epoch 153/600\n",
      "30493/30493 [==============================] - 582s 19ms/step - loss: 362028.4062 - val_loss: 363209.8125\n",
      "Epoch 154/600\n",
      "30493/30493 [==============================] - 81s 3ms/step - loss: 362235.6250 - val_loss: 369212.5625\n",
      "Epoch 155/600\n",
      "30493/30493 [==============================] - 83s 3ms/step - loss: 361952.0312 - val_loss: 364532.8125\n",
      "Epoch 156/600\n",
      "30493/30493 [==============================] - 92s 3ms/step - loss: 362242.8750 - val_loss: 363133.1875\n",
      "Epoch 157/600\n",
      "30493/30493 [==============================] - 81s 3ms/step - loss: 361807.4062 - val_loss: 375793.9688\n",
      "Epoch 158/600\n",
      "30493/30493 [==============================] - 82s 3ms/step - loss: 361851.0312 - val_loss: 362895.1562\n",
      "Epoch 159/600\n",
      "30493/30493 [==============================] - 81s 3ms/step - loss: 362014.1875 - val_loss: 368912.6250\n",
      "Epoch 160/600\n",
      "30493/30493 [==============================] - 79s 3ms/step - loss: 362218.4375 - val_loss: 400420.8125\n",
      "Epoch 161/600\n",
      "30493/30493 [==============================] - 84s 3ms/step - loss: 362144.9375 - val_loss: 364795.6250\n",
      "Epoch 162/600\n",
      "30493/30493 [==============================] - 83s 3ms/step - loss: 361932.7188 - val_loss: 363795.2188\n",
      "Epoch 163/600\n",
      "30493/30493 [==============================] - 81s 3ms/step - loss: 362211.5312 - val_loss: 364662.8750\n",
      "Epoch 164/600\n",
      "30493/30493 [==============================] - 82s 3ms/step - loss: 362182.6250 - val_loss: 385007.0312\n",
      "Epoch 165/600\n",
      "30493/30493 [==============================] - 82s 3ms/step - loss: 361805.5938 - val_loss: 362673.5625\n",
      "Epoch 166/600\n",
      "30493/30493 [==============================] - 77s 3ms/step - loss: 362017.0938 - val_loss: 364585.9688\n",
      "Epoch 167/600\n",
      "30493/30493 [==============================] - 82s 3ms/step - loss: 361951.7500 - val_loss: 363095.4688\n",
      "Epoch 168/600\n",
      "30493/30493 [==============================] - 81s 3ms/step - loss: 361960.7188 - val_loss: 372556.3750\n",
      "Epoch 169/600\n",
      "30493/30493 [==============================] - 84s 3ms/step - loss: 361881.7500 - val_loss: 362695.3438\n",
      "Epoch 170/600\n",
      "30493/30493 [==============================] - 81s 3ms/step - loss: 361689.1250 - val_loss: 369484.9062\n",
      "Epoch 171/600\n",
      "30493/30493 [==============================] - 82s 3ms/step - loss: 361614.8750 - val_loss: 365570.4062\n",
      "Epoch 172/600\n",
      "30493/30493 [==============================] - 83s 3ms/step - loss: 362098.7812 - val_loss: 366629.0000\n",
      "Epoch 173/600\n",
      "30493/30493 [==============================] - 85s 3ms/step - loss: 361801.5625 - val_loss: 362581.3750\n",
      "Epoch 174/600\n",
      "30493/30493 [==============================] - 81s 3ms/step - loss: 361842.5938 - val_loss: 367867.2500\n",
      "Epoch 175/600\n",
      "30493/30493 [==============================] - 81s 3ms/step - loss: 361468.0312 - val_loss: 366970.5625\n",
      "Epoch 00175: early stopping\n"
     ]
    },
    {
     "data": {
      "text/plain": [
       "<tensorflow.python.keras.callbacks.History at 0x1dd623c5988>"
      ]
     },
     "execution_count": 42,
     "metadata": {},
     "output_type": "execute_result"
    }
   ],
   "source": [
    "model.fit(x=X_train, \n",
    "          y=y_train.values, \n",
    "          epochs=600,\n",
    "          validation_data=(X_test, y_test.values), verbose=1,\n",
    "          callbacks=[early_stop]\n",
    "          )"
   ]
  },
  {
   "cell_type": "code",
   "execution_count": 39,
   "metadata": {},
   "outputs": [
    {
     "name": "stdout",
     "output_type": "stream",
     "text": [
      "Epoch 1/100\n",
      "7624/7624 [==============================] - 17s 2ms/step - loss: 466853.0312 - val_loss: 427181.4062\n",
      "Epoch 2/100\n",
      "7624/7624 [==============================] - 17s 2ms/step - loss: 424112.3438 - val_loss: 427134.9375\n",
      "Epoch 3/100\n",
      "7624/7624 [==============================] - 17s 2ms/step - loss: 423950.3750 - val_loss: 427084.0938\n",
      "Epoch 4/100\n",
      "7624/7624 [==============================] - 18s 2ms/step - loss: 423634.8125 - val_loss: 426567.5312\n",
      "Epoch 5/100\n",
      "7624/7624 [==============================] - 18s 2ms/step - loss: 423377.4688 - val_loss: 426632.3750\n",
      "Epoch 6/100\n",
      "7624/7624 [==============================] - 18s 2ms/step - loss: 423247.0938 - val_loss: 426418.6562\n",
      "Epoch 7/100\n",
      "7624/7624 [==============================] - 17s 2ms/step - loss: 423192.2812 - val_loss: 426382.8438\n",
      "Epoch 8/100\n",
      "7624/7624 [==============================] - 18s 2ms/step - loss: 423142.7812 - val_loss: 426339.9688\n",
      "Epoch 9/100\n",
      "7624/7624 [==============================] - 18s 2ms/step - loss: 423129.9375 - val_loss: 426227.9062\n",
      "Epoch 10/100\n",
      "7624/7624 [==============================] - 18s 2ms/step - loss: 423102.0938 - val_loss: 426282.5625\n",
      "Epoch 11/100\n",
      "7624/7624 [==============================] - 18s 2ms/step - loss: 423095.7500 - val_loss: 426198.0000\n",
      "Epoch 12/100\n",
      "7624/7624 [==============================] - 18s 2ms/step - loss: 423068.3750 - val_loss: 426194.0938\n",
      "Epoch 13/100\n",
      "7624/7624 [==============================] - 18s 2ms/step - loss: 423063.5625 - val_loss: 426184.0000\n",
      "Epoch 14/100\n",
      "7624/7624 [==============================] - 18s 2ms/step - loss: 423051.3438 - val_loss: 426164.6250\n",
      "Epoch 15/100\n",
      "7624/7624 [==============================] - 18s 2ms/step - loss: 423031.1875 - val_loss: 426358.3750\n",
      "Epoch 16/100\n",
      "7624/7624 [==============================] - 18s 2ms/step - loss: 423037.7812 - val_loss: 426347.1250\n",
      "Epoch 17/100\n",
      "7624/7624 [==============================] - 18s 2ms/step - loss: 423002.6562 - val_loss: 426210.9375\n",
      "Epoch 18/100\n",
      "7624/7624 [==============================] - 18s 2ms/step - loss: 422991.0312 - val_loss: 426229.4062\n",
      "Epoch 19/100\n",
      "7624/7624 [==============================] - 18s 2ms/step - loss: 422982.7500 - val_loss: 426339.1562\n",
      "Epoch 20/100\n",
      "7624/7624 [==============================] - 18s 2ms/step - loss: 422962.0312 - val_loss: 426284.8125\n",
      "Epoch 21/100\n",
      "7624/7624 [==============================] - 18s 2ms/step - loss: 422955.8750 - val_loss: 426301.2812\n",
      "Epoch 22/100\n",
      "7624/7624 [==============================] - 18s 2ms/step - loss: 422944.0938 - val_loss: 426168.5938\n",
      "Epoch 23/100\n",
      "7624/7624 [==============================] - 18s 2ms/step - loss: 422928.3125 - val_loss: 426060.0625\n",
      "Epoch 24/100\n",
      "7624/7624 [==============================] - 18s 2ms/step - loss: 422911.7188 - val_loss: 426211.5938\n",
      "Epoch 25/100\n",
      "7624/7624 [==============================] - 19s 2ms/step - loss: 422889.3438 - val_loss: 426017.2188\n",
      "Epoch 26/100\n",
      "7624/7624 [==============================] - 18s 2ms/step - loss: 422872.9688 - val_loss: 425999.8438\n",
      "Epoch 27/100\n",
      "7624/7624 [==============================] - 15s 2ms/step - loss: 422862.8438 - val_loss: 425996.7188\n",
      "Epoch 28/100\n",
      "7624/7624 [==============================] - 16s 2ms/step - loss: 422841.9688 - val_loss: 426221.9375\n",
      "Epoch 29/100\n",
      "7624/7624 [==============================] - 17s 2ms/step - loss: 422819.0312 - val_loss: 425961.2812\n",
      "Epoch 30/100\n",
      "7624/7624 [==============================] - 18s 2ms/step - loss: 422812.9062 - val_loss: 425912.1562\n",
      "Epoch 31/100\n",
      "7624/7624 [==============================] - 19s 2ms/step - loss: 422778.0312 - val_loss: 425884.9375\n",
      "Epoch 32/100\n",
      "7624/7624 [==============================] - 18s 2ms/step - loss: 422762.7188 - val_loss: 426019.9688\n",
      "Epoch 33/100\n",
      "7624/7624 [==============================] - 21s 3ms/step - loss: 422749.1562 - val_loss: 425856.5625\n",
      "Epoch 34/100\n",
      "7624/7624 [==============================] - 17s 2ms/step - loss: 422712.9688 - val_loss: 425820.1250\n",
      "Epoch 35/100\n",
      "7624/7624 [==============================] - 16s 2ms/step - loss: 422690.0000 - val_loss: 425800.5312\n",
      "Epoch 36/100\n",
      "7624/7624 [==============================] - 16s 2ms/step - loss: 422648.1562 - val_loss: 425796.9688\n",
      "Epoch 37/100\n",
      "7624/7624 [==============================] - 16s 2ms/step - loss: 422634.1875 - val_loss: 425814.2188\n",
      "Epoch 38/100\n",
      "7624/7624 [==============================] - 18s 2ms/step - loss: 422602.2188 - val_loss: 425750.0000\n",
      "Epoch 39/100\n",
      "7624/7624 [==============================] - 18s 2ms/step - loss: 422564.6562 - val_loss: 425706.1250\n",
      "Epoch 40/100\n",
      "7624/7624 [==============================] - 18s 2ms/step - loss: 422545.3438 - val_loss: 425632.8750\n",
      "Epoch 41/100\n",
      "7624/7624 [==============================] - 16s 2ms/step - loss: 422503.0312 - val_loss: 425615.7500\n",
      "Epoch 42/100\n",
      "7624/7624 [==============================] - 16s 2ms/step - loss: 422460.3125 - val_loss: 425535.8438\n",
      "Epoch 43/100\n",
      "7624/7624 [==============================] - 17s 2ms/step - loss: 422428.5000 - val_loss: 425707.3125\n",
      "Epoch 44/100\n",
      "7624/7624 [==============================] - 17s 2ms/step - loss: 422362.7188 - val_loss: 425447.2500\n",
      "Epoch 45/100\n",
      "7624/7624 [==============================] - 15s 2ms/step - loss: 422314.2188 - val_loss: 425454.0000\n",
      "Epoch 46/100\n",
      "7624/7624 [==============================] - 16s 2ms/step - loss: 422261.5312 - val_loss: 425361.7188\n",
      "Epoch 47/100\n",
      "7624/7624 [==============================] - 17s 2ms/step - loss: 422195.2188 - val_loss: 425298.4688\n",
      "Epoch 48/100\n",
      "7624/7624 [==============================] - 18s 2ms/step - loss: 422120.6250 - val_loss: 425297.9375\n",
      "Epoch 49/100\n",
      "7624/7624 [==============================] - 19s 3ms/step - loss: 422037.7812 - val_loss: 425085.4688\n",
      "Epoch 50/100\n",
      "7624/7624 [==============================] - 17s 2ms/step - loss: 421961.3125 - val_loss: 425040.7812\n",
      "Epoch 51/100\n",
      "7624/7624 [==============================] - 16s 2ms/step - loss: 421862.5000 - val_loss: 424875.4688\n",
      "Epoch 52/100\n",
      "7624/7624 [==============================] - 17s 2ms/step - loss: 421721.5312 - val_loss: 424781.5938\n",
      "Epoch 53/100\n",
      "7624/7624 [==============================] - 17s 2ms/step - loss: 421584.1562 - val_loss: 424572.7500\n",
      "Epoch 54/100\n",
      "7624/7624 [==============================] - 17s 2ms/step - loss: 421402.5938 - val_loss: 424655.5938\n",
      "Epoch 55/100\n",
      "7624/7624 [==============================] - 16s 2ms/step - loss: 421172.3750 - val_loss: 424535.5312\n",
      "Epoch 56/100\n",
      "7624/7624 [==============================] - 17s 2ms/step - loss: 420906.1562 - val_loss: 423951.2500\n",
      "Epoch 57/100\n",
      "7624/7624 [==============================] - 17s 2ms/step - loss: 420544.8438 - val_loss: 423609.6250\n",
      "Epoch 58/100\n",
      "7624/7624 [==============================] - 17s 2ms/step - loss: 420139.0625 - val_loss: 422875.3750\n",
      "Epoch 59/100\n",
      "7624/7624 [==============================] - 17s 2ms/step - loss: 419539.0625 - val_loss: 422217.0938\n",
      "Epoch 60/100\n",
      "7624/7624 [==============================] - 17s 2ms/step - loss: 418768.0938 - val_loss: 421772.3438\n",
      "Epoch 61/100\n",
      "7624/7624 [==============================] - 17s 2ms/step - loss: 417671.7500 - val_loss: 420845.2812\n",
      "Epoch 62/100\n",
      "7624/7624 [==============================] - 19s 2ms/step - loss: 416122.0000 - val_loss: 418173.3125\n",
      "Epoch 63/100\n",
      "7624/7624 [==============================] - 17s 2ms/step - loss: 413883.8438 - val_loss: 415495.4375\n",
      "Epoch 64/100\n",
      "7624/7624 [==============================] - 16s 2ms/step - loss: 410831.1250 - val_loss: 411519.7500\n",
      "Epoch 65/100\n",
      "7624/7624 [==============================] - 16s 2ms/step - loss: 406912.0312 - val_loss: 407703.3750\n",
      "Epoch 66/100\n",
      "7624/7624 [==============================] - 16s 2ms/step - loss: 403030.5938 - val_loss: 404193.9375\n",
      "Epoch 67/100\n",
      "7624/7624 [==============================] - 17s 2ms/step - loss: 398675.7500 - val_loss: 399648.1250\n",
      "Epoch 68/100\n",
      "7624/7624 [==============================] - 16s 2ms/step - loss: 394550.2812 - val_loss: 396102.2188\n",
      "Epoch 69/100\n",
      "7624/7624 [==============================] - 17s 2ms/step - loss: 391379.0000 - val_loss: 394816.1562\n",
      "Epoch 70/100\n",
      "7624/7624 [==============================] - 17s 2ms/step - loss: 388000.2500 - val_loss: 394762.3750\n",
      "Epoch 71/100\n",
      "7624/7624 [==============================] - 17s 2ms/step - loss: 386107.3750 - val_loss: 397658.2188\n",
      "Epoch 72/100\n",
      "7624/7624 [==============================] - 17s 2ms/step - loss: 384091.5312 - val_loss: 390084.7500\n",
      "Epoch 73/100\n",
      "7624/7624 [==============================] - 17s 2ms/step - loss: 382840.4375 - val_loss: 386116.6562\n",
      "Epoch 74/100\n",
      "7624/7624 [==============================] - 16s 2ms/step - loss: 381318.3438 - val_loss: 387196.8438\n",
      "Epoch 75/100\n",
      "7624/7624 [==============================] - 17s 2ms/step - loss: 380481.9688 - val_loss: 384686.9375\n",
      "Epoch 76/100\n",
      "7624/7624 [==============================] - 17s 2ms/step - loss: 379299.7500 - val_loss: 385975.4688\n",
      "Epoch 77/100\n",
      "7624/7624 [==============================] - 17s 2ms/step - loss: 378507.3125 - val_loss: 384327.0312\n",
      "Epoch 78/100\n",
      "7624/7624 [==============================] - 16s 2ms/step - loss: 377754.3125 - val_loss: 386109.7188\n",
      "Epoch 79/100\n",
      "7624/7624 [==============================] - 16s 2ms/step - loss: 377064.6562 - val_loss: 380159.0625\n",
      "Epoch 80/100\n",
      "7624/7624 [==============================] - 16s 2ms/step - loss: 376412.7812 - val_loss: 383218.7188\n",
      "Epoch 81/100\n",
      "7624/7624 [==============================] - 16s 2ms/step - loss: 375671.5938 - val_loss: 380062.5938\n",
      "Epoch 82/100\n",
      "7624/7624 [==============================] - 18s 2ms/step - loss: 374889.9062 - val_loss: 380263.6875\n",
      "Epoch 83/100\n",
      "7624/7624 [==============================] - 19s 3ms/step - loss: 374632.8438 - val_loss: 378275.0938\n",
      "Epoch 84/100\n",
      "7624/7624 [==============================] - 19s 3ms/step - loss: 374144.6562 - val_loss: 384761.3125\n",
      "Epoch 85/100\n",
      "7624/7624 [==============================] - 19s 3ms/step - loss: 373716.3125 - val_loss: 380416.1562\n",
      "Epoch 86/100\n",
      "7624/7624 [==============================] - 19s 2ms/step - loss: 373269.6875 - val_loss: 379079.3438\n",
      "Epoch 87/100\n",
      "7624/7624 [==============================] - 19s 3ms/step - loss: 373012.3125 - val_loss: 376409.9688\n",
      "Epoch 88/100\n",
      "7624/7624 [==============================] - 19s 2ms/step - loss: 372772.2188 - val_loss: 376936.3125\n",
      "Epoch 89/100\n",
      "7624/7624 [==============================] - 19s 2ms/step - loss: 372554.0625 - val_loss: 377167.4062\n",
      "Epoch 90/100\n",
      "7624/7624 [==============================] - 17s 2ms/step - loss: 372455.6250 - val_loss: 375635.3125\n",
      "Epoch 91/100\n",
      "7624/7624 [==============================] - 19s 2ms/step - loss: 372517.2812 - val_loss: 376300.0000\n",
      "Epoch 92/100\n",
      "7624/7624 [==============================] - 18s 2ms/step - loss: 371165.3750 - val_loss: 376560.7188\n",
      "Epoch 93/100\n",
      "7624/7624 [==============================] - 15s 2ms/step - loss: 370342.0938 - val_loss: 374112.1562\n",
      "Epoch 94/100\n",
      "7624/7624 [==============================] - 18s 2ms/step - loss: 369629.8750 - val_loss: 374546.7812\n",
      "Epoch 95/100\n",
      "7624/7624 [==============================] - 19s 3ms/step - loss: 369372.8125 - val_loss: 373566.9062\n",
      "Epoch 96/100\n",
      "7624/7624 [==============================] - 18s 2ms/step - loss: 369307.7812 - val_loss: 378616.2188\n",
      "Epoch 97/100\n",
      "7624/7624 [==============================] - 20s 3ms/step - loss: 369478.8125 - val_loss: 372633.0625\n",
      "Epoch 98/100\n",
      "7624/7624 [==============================] - 20s 3ms/step - loss: 369455.5625 - val_loss: 374564.1875\n",
      "Epoch 99/100\n",
      "7624/7624 [==============================] - 20s 3ms/step - loss: 369101.1250 - val_loss: 371869.3438\n",
      "Epoch 100/100\n",
      "7624/7624 [==============================] - 19s 3ms/step - loss: 368564.1562 - val_loss: 372805.0000\n"
     ]
    },
    {
     "data": {
      "text/plain": [
       "<tensorflow.python.keras.callbacks.History at 0x135c350e548>"
      ]
     },
     "execution_count": 39,
     "metadata": {},
     "output_type": "execute_result"
    }
   ],
   "source": [
    "model.fit(x=X_train,y=y_train.values,\n",
    "          validation_data=(X_test,y_test.values),\n",
    "          batch_size=128,epochs=150)"
   ]
  },
  {
   "cell_type": "code",
   "execution_count": 43,
   "metadata": {},
   "outputs": [],
   "source": [
    "losses = pd.DataFrame(model.history.history)"
   ]
  },
  {
   "cell_type": "code",
   "execution_count": 44,
   "metadata": {},
   "outputs": [
    {
     "data": {
      "text/plain": [
       "<matplotlib.axes._subplots.AxesSubplot at 0x1dd625f2dc8>"
      ]
     },
     "execution_count": 44,
     "metadata": {},
     "output_type": "execute_result"
    },
    {
     "data": {
      "image/png": "[encoded data removed]",
      "text/plain": [
       "<Figure size 432x288 with 1 Axes>"
      ]
     },
     "metadata": {
      "needs_background": "light"
     },
     "output_type": "display_data"
    }
   ],
   "source": [
    "losses.plot()"
   ]
  },
  {
   "cell_type": "code",
   "execution_count": 45,
   "metadata": {},
   "outputs": [],
   "source": [
    "from sklearn.metrics import mean_squared_error,mean_absolute_error,explained_variance_score"
   ]
  },
  {
   "cell_type": "code",
   "execution_count": 46,
   "metadata": {},
   "outputs": [],
   "source": [
    "predictions = model.predict(X_test)"
   ]
  },
  {
   "cell_type": "code",
   "execution_count": 47,
   "metadata": {},
   "outputs": [
    {
     "data": {
      "text/plain": [
       "443.3278885367743"
      ]
     },
     "execution_count": 47,
     "metadata": {},
     "output_type": "execute_result"
    }
   ],
   "source": [
    "mean_absolute_error(y_test,predictions)"
   ]
  },
  {
   "cell_type": "code",
   "execution_count": 48,
   "metadata": {},
   "outputs": [
    {
     "data": {
      "text/plain": [
       "605.7807769336464"
      ]
     },
     "execution_count": 48,
     "metadata": {},
     "output_type": "execute_result"
    }
   ],
   "source": [
    "np.sqrt(mean_squared_error(y_test,predictions))"
   ]
  },
  {
   "cell_type": "code",
   "execution_count": 49,
   "metadata": {},
   "outputs": [
    {
     "data": {
      "text/plain": [
       "0.14820210018290758"
      ]
     },
     "execution_count": 49,
     "metadata": {},
     "output_type": "execute_result"
    }
   ],
   "source": [
    "explained_variance_score(y_test,predictions)"
   ]
  },
  {
   "cell_type": "code",
   "execution_count": 50,
   "metadata": {},
   "outputs": [
    {
     "data": {
      "text/plain": [
       "array([[ 651.4637 ],\n",
       "       [ 826.226  ],\n",
       "       [1762.8575 ],\n",
       "       ...,\n",
       "       [ 800.2519 ],\n",
       "       [ 867.5015 ],\n",
       "       [ 815.95935]], dtype=float32)"
      ]
     },
     "execution_count": 50,
     "metadata": {},
     "output_type": "execute_result"
    }
   ],
   "source": [
    "predictions"
   ]
  },
  {
   "cell_type": "code",
   "execution_count": 53,
   "metadata": {},
   "outputs": [
    {
     "data": {
      "text/plain": [
       "(0, 4000)"
      ]
     },
     "execution_count": 53,
     "metadata": {},
     "output_type": "execute_result"
    },
    {
     "data": {
      "image/png": "[encoded data removed]",
      "text/plain": [
       "<Figure size 432x288 with 1 Axes>"
      ]
     },
     "metadata": {
      "needs_background": "light"
     },
     "output_type": "display_data"
    }
   ],
   "source": [
    "# Our predictions\n",
    "plt.scatter(y_test,predictions)\n",
    "\n",
    "# Perfect predictions\n",
    "plt.plot(y_test,y_test,'r')\n",
    "plt.ylim(0,4000)\n",
    "#plt.xlim(0,10000)"
   ]
  },
  {
   "cell_type": "code",
   "execution_count": 15,
   "metadata": {},
   "outputs": [],
   "source": [
    "X=trip_modified.drop(['vendor_id','id','trip_duration','store_and_fwd_flag','pickup_datetime','dropoff_datetime'],axis=1)\n",
    "y=trip_modified['trip_duration']"
   ]
  },
  {
   "cell_type": "code",
   "execution_count": 25,
   "metadata": {},
   "outputs": [
    {
     "name": "stdout",
     "output_type": "stream",
     "text": [
      "-43916.47593367938\n"
     ]
    }
   ],
   "source": [
    "print(lm.intercept_)"
   ]
  },
  {
   "cell_type": "code",
   "execution_count": 26,
   "metadata": {},
   "outputs": [
    {
     "data": {
      "text/html": [
       "<div>\n",
       "<style scoped>\n",
       "    .dataframe tbody tr th:only-of-type {\n",
       "        vertical-align: middle;\n",
       "    }\n",
       "\n",
       "    .dataframe tbody tr th {\n",
       "        vertical-align: top;\n",
       "    }\n",
       "\n",
       "    .dataframe thead th {\n",
       "        text-align: right;\n",
       "    }\n",
       "</style>\n",
       "<table border=\"1\" class=\"dataframe\">\n",
       "  <thead>\n",
       "    <tr style=\"text-align: right;\">\n",
       "      <th></th>\n",
       "      <th>Coefficient</th>\n",
       "    </tr>\n",
       "  </thead>\n",
       "  <tbody>\n",
       "    <tr>\n",
       "      <th>passenger_count</th>\n",
       "      <td>45.001814</td>\n",
       "    </tr>\n",
       "    <tr>\n",
       "      <th>pickup_longitude</th>\n",
       "      <td>81745.141660</td>\n",
       "    </tr>\n",
       "    <tr>\n",
       "      <th>pickup_latitude</th>\n",
       "      <td>-18081.944514</td>\n",
       "    </tr>\n",
       "    <tr>\n",
       "      <th>dropoff_longitude</th>\n",
       "      <td>5320.342224</td>\n",
       "    </tr>\n",
       "    <tr>\n",
       "      <th>dropoff_latitude</th>\n",
       "      <td>-17441.459584</td>\n",
       "    </tr>\n",
       "    <tr>\n",
       "      <th>pickup_month</th>\n",
       "      <td>-1823.948988</td>\n",
       "    </tr>\n",
       "    <tr>\n",
       "      <th>dropoff_month</th>\n",
       "      <td>2286.623536</td>\n",
       "    </tr>\n",
       "    <tr>\n",
       "      <th>pickup_hour</th>\n",
       "      <td>23.027487</td>\n",
       "    </tr>\n",
       "    <tr>\n",
       "      <th>dropoff_hour</th>\n",
       "      <td>44.793677</td>\n",
       "    </tr>\n",
       "  </tbody>\n",
       "</table>\n",
       "</div>"
      ],
      "text/plain": [
       "                    Coefficient\n",
       "passenger_count       45.001814\n",
       "pickup_longitude   81745.141660\n",
       "pickup_latitude   -18081.944514\n",
       "dropoff_longitude   5320.342224\n",
       "dropoff_latitude  -17441.459584\n",
       "pickup_month       -1823.948988\n",
       "dropoff_month       2286.623536\n",
       "pickup_hour           23.027487\n",
       "dropoff_hour          44.793677"
      ]
     },
     "execution_count": 26,
     "metadata": {},
     "output_type": "execute_result"
    }
   ],
   "source": [
    "coeff_df = pd.DataFrame(lm.coef_,X.columns,columns=['Coefficient'])\n",
    "coeff_df"
   ]
  },
  {
   "cell_type": "code",
   "execution_count": 27,
   "metadata": {},
   "outputs": [],
   "source": [
    "predictions = lm.predict(X_test)"
   ]
  },
  {
   "cell_type": "code",
   "execution_count": 32,
   "metadata": {},
   "outputs": [
    {
     "data": {
      "text/plain": [
       "(0, 3000)"
      ]
     },
     "execution_count": 32,
     "metadata": {},
     "output_type": "execute_result"
    },
    {
     "data": {
      "image/png": "[encoded data removed]",
      "text/plain": [
       "<Figure size 432x288 with 1 Axes>"
      ]
     },
     "metadata": {
      "needs_background": "light"
     },
     "output_type": "display_data"
    }
   ],
   "source": [
    "plt.scatter(y_test,predictions)\n",
    "plt.ylim(0,3000)\n",
    "plt.xlim(0,3000)"
   ]
  },
  {
   "cell_type": "code",
   "execution_count": 56,
   "metadata": {},
   "outputs": [
    {
     "data": {
      "text/plain": [
       "id                    25\n",
       "vendor_id             25\n",
       "pickup_datetime       25\n",
       "dropoff_datetime      25\n",
       "passenger_count       25\n",
       "pickup_longitude      25\n",
       "pickup_latitude       25\n",
       "dropoff_longitude     25\n",
       "dropoff_latitude      25\n",
       "store_and_fwd_flag    25\n",
       "trip_duration         25\n",
       "pickup_month          25\n",
       "dropoff_month         25\n",
       "pickup_hour           25\n",
       "dropoff_hour          25\n",
       "dtype: int64"
      ]
     },
     "execution_count": 56,
     "metadata": {},
     "output_type": "execute_result"
    }
   ],
   "source": [
    "trip_duration[(trip_duration['trip_duration']>60000) & (trip_duration['trip_duration']<70000)].count()"
   ]
  },
  {
   "cell_type": "code",
   "execution_count": 57,
   "metadata": {},
   "outputs": [
    {
     "data": {
      "text/plain": [
       "id                    1936\n",
       "vendor_id             1936\n",
       "pickup_datetime       1936\n",
       "dropoff_datetime      1936\n",
       "passenger_count       1936\n",
       "pickup_longitude      1936\n",
       "pickup_latitude       1936\n",
       "dropoff_longitude     1936\n",
       "dropoff_latitude      1936\n",
       "store_and_fwd_flag    1936\n",
       "trip_duration         1936\n",
       "pickup_month          1936\n",
       "dropoff_month         1936\n",
       "pickup_hour           1936\n",
       "dropoff_hour          1936\n",
       "dtype: int64"
      ]
     },
     "execution_count": 57,
     "metadata": {},
     "output_type": "execute_result"
    }
   ],
   "source": [
    "trip_duration[trip_duration['trip_duration']>70000].count()"
   ]
  },
  {
   "cell_type": "code",
   "execution_count": 58,
   "metadata": {},
   "outputs": [
    {
     "data": {
      "text/plain": [
       "id                    1458644\n",
       "vendor_id             1458644\n",
       "pickup_datetime       1458644\n",
       "dropoff_datetime      1458644\n",
       "passenger_count       1458644\n",
       "pickup_longitude      1458644\n",
       "pickup_latitude       1458644\n",
       "dropoff_longitude     1458644\n",
       "dropoff_latitude      1458644\n",
       "store_and_fwd_flag    1458644\n",
       "trip_duration         1458644\n",
       "pickup_month          1458644\n",
       "dropoff_month         1458644\n",
       "pickup_hour           1458644\n",
       "dropoff_hour          1458644\n",
       "dtype: int64"
      ]
     },
     "execution_count": 58,
     "metadata": {},
     "output_type": "execute_result"
    }
   ],
   "source": [
    "trip_duration.count()"
   ]
  },
  {
   "cell_type": "code",
   "execution_count": 59,
   "metadata": {},
   "outputs": [
    {
     "data": {
      "text/plain": [
       "id                    0.001327\n",
       "vendor_id             0.001327\n",
       "pickup_datetime       0.001327\n",
       "dropoff_datetime      0.001327\n",
       "passenger_count       0.001327\n",
       "pickup_longitude      0.001327\n",
       "pickup_latitude       0.001327\n",
       "dropoff_longitude     0.001327\n",
       "dropoff_latitude      0.001327\n",
       "store_and_fwd_flag    0.001327\n",
       "trip_duration         0.001327\n",
       "pickup_month          0.001327\n",
       "dropoff_month         0.001327\n",
       "pickup_hour           0.001327\n",
       "dropoff_hour          0.001327\n",
       "dtype: float64"
      ]
     },
     "execution_count": 59,
     "metadata": {},
     "output_type": "execute_result"
    }
   ],
   "source": [
    "trip_duration[trip_duration['trip_duration']>70000].count()/trip_duration.count()"
   ]
  },
  {
   "cell_type": "code",
   "execution_count": 60,
   "metadata": {},
   "outputs": [],
   "source": [
    "df_trip=trip_duration[trip_duration['trip_duration']<70000]"
   ]
  },
  {
   "cell_type": "code",
   "execution_count": 61,
   "metadata": {},
   "outputs": [],
   "source": [
    "X=df_trip.drop(['vendor_id','id','trip_duration','store_and_fwd_flag','pickup_datetime','dropoff_datetime'],axis=1)\n",
    "y=df_trip['trip_duration']"
   ]
  },
  {
   "cell_type": "code",
   "execution_count": 62,
   "metadata": {},
   "outputs": [
    {
     "data": {
      "text/plain": [
       "id                    1456708\n",
       "vendor_id             1456708\n",
       "pickup_datetime       1456708\n",
       "dropoff_datetime      1456708\n",
       "passenger_count       1456708\n",
       "pickup_longitude      1456708\n",
       "pickup_latitude       1456708\n",
       "dropoff_longitude     1456708\n",
       "dropoff_latitude      1456708\n",
       "store_and_fwd_flag    1456708\n",
       "trip_duration         1456708\n",
       "pickup_month          1456708\n",
       "dropoff_month         1456708\n",
       "pickup_hour           1456708\n",
       "dropoff_hour          1456708\n",
       "dtype: int64"
      ]
     },
     "execution_count": 62,
     "metadata": {},
     "output_type": "execute_result"
    }
   ],
   "source": [
    "df_trip.count()"
   ]
  },
  {
   "cell_type": "code",
   "execution_count": 89,
   "metadata": {},
   "outputs": [],
   "source": [
    "X_train, X_test, y_train, y_test = train_test_split(X, y, test_size=0.33, random_state=101)"
   ]
  },
  {
   "cell_type": "code",
   "execution_count": 90,
   "metadata": {},
   "outputs": [
    {
     "data": {
      "text/plain": [
       "MinMaxScaler(copy=True, feature_range=(0, 1))"
      ]
     },
     "execution_count": 90,
     "metadata": {},
     "output_type": "execute_result"
    }
   ],
   "source": [
    "scaler.fit(X_train)"
   ]
  },
  {
   "cell_type": "code",
   "execution_count": 91,
   "metadata": {},
   "outputs": [],
   "source": [
    "X_train = scaler.transform(X_train)\n",
    "X_test = scaler.transform(X_test)"
   ]
  },
  {
   "cell_type": "code",
   "execution_count": 92,
   "metadata": {},
   "outputs": [
    {
     "data": {
      "text/plain": [
       "LinearRegression(copy_X=True, fit_intercept=True, n_jobs=None, normalize=False)"
      ]
     },
     "execution_count": 92,
     "metadata": {},
     "output_type": "execute_result"
    }
   ],
   "source": [
    "lm.fit(X_train,y_train)"
   ]
  },
  {
   "cell_type": "code",
   "execution_count": 77,
   "metadata": {},
   "outputs": [
    {
     "name": "stdout",
     "output_type": "stream",
     "text": [
      "-32890.19377868291\n"
     ]
    }
   ],
   "source": [
    "print(lm.intercept_)"
   ]
  },
  {
   "cell_type": "code",
   "execution_count": 78,
   "metadata": {},
   "outputs": [
    {
     "data": {
      "text/html": [
       "<div>\n",
       "<style scoped>\n",
       "    .dataframe tbody tr th:only-of-type {\n",
       "        vertical-align: middle;\n",
       "    }\n",
       "\n",
       "    .dataframe tbody tr th {\n",
       "        vertical-align: top;\n",
       "    }\n",
       "\n",
       "    .dataframe thead th {\n",
       "        text-align: right;\n",
       "    }\n",
       "</style>\n",
       "<table border=\"1\" class=\"dataframe\">\n",
       "  <thead>\n",
       "    <tr style=\"text-align: right;\">\n",
       "      <th></th>\n",
       "      <th>Coefficient</th>\n",
       "    </tr>\n",
       "  </thead>\n",
       "  <tbody>\n",
       "    <tr>\n",
       "      <th>passenger_count</th>\n",
       "      <td>66.140657</td>\n",
       "    </tr>\n",
       "    <tr>\n",
       "      <th>pickup_longitude</th>\n",
       "      <td>121488.536519</td>\n",
       "    </tr>\n",
       "    <tr>\n",
       "      <th>pickup_latitude</th>\n",
       "      <td>-34286.496139</td>\n",
       "    </tr>\n",
       "    <tr>\n",
       "      <th>dropoff_longitude</th>\n",
       "      <td>-35705.909665</td>\n",
       "    </tr>\n",
       "    <tr>\n",
       "      <th>dropoff_latitude</th>\n",
       "      <td>-17682.014864</td>\n",
       "    </tr>\n",
       "    <tr>\n",
       "      <th>pickup_month</th>\n",
       "      <td>-3000.961619</td>\n",
       "    </tr>\n",
       "    <tr>\n",
       "      <th>dropoff_month</th>\n",
       "      <td>3738.546218</td>\n",
       "    </tr>\n",
       "    <tr>\n",
       "      <th>pickup_hour</th>\n",
       "      <td>42.228208</td>\n",
       "    </tr>\n",
       "    <tr>\n",
       "      <th>dropoff_hour</th>\n",
       "      <td>20.047945</td>\n",
       "    </tr>\n",
       "  </tbody>\n",
       "</table>\n",
       "</div>"
      ],
      "text/plain": [
       "                     Coefficient\n",
       "passenger_count        66.140657\n",
       "pickup_longitude   121488.536519\n",
       "pickup_latitude    -34286.496139\n",
       "dropoff_longitude  -35705.909665\n",
       "dropoff_latitude   -17682.014864\n",
       "pickup_month        -3000.961619\n",
       "dropoff_month        3738.546218\n",
       "pickup_hour            42.228208\n",
       "dropoff_hour           20.047945"
      ]
     },
     "execution_count": 78,
     "metadata": {},
     "output_type": "execute_result"
    }
   ],
   "source": [
    "coeff_df = pd.DataFrame(lm.coef_,X.columns,columns=['Coefficient'])\n",
    "coeff_df"
   ]
  },
  {
   "cell_type": "code",
   "execution_count": 79,
   "metadata": {},
   "outputs": [],
   "source": [
    "predictions = lm.predict(X_test)"
   ]
  },
  {
   "cell_type": "code",
   "execution_count": 80,
   "metadata": {},
   "outputs": [
    {
     "data": {
      "text/plain": [
       "(0, 70000)"
      ]
     },
     "execution_count": 80,
     "metadata": {},
     "output_type": "execute_result"
    },
    {
     "data": {
      "image/png": "[encoded data removed]",
      "text/plain": [
       "<Figure size 432x288 with 1 Axes>"
      ]
     },
     "metadata": {
      "needs_background": "light"
     },
     "output_type": "display_data"
    }
   ],
   "source": [
    "plt.scatter(y_test,predictions)\n",
    "plt.ylim(0,2000)\n",
    "plt.xlim(0,70000)"
   ]
  },
  {
   "cell_type": "code",
   "execution_count": 82,
   "metadata": {},
   "outputs": [
    {
     "data": {
      "text/html": [
       "<div>\n",
       "<style scoped>\n",
       "    .dataframe tbody tr th:only-of-type {\n",
       "        vertical-align: middle;\n",
       "    }\n",
       "\n",
       "    .dataframe tbody tr th {\n",
       "        vertical-align: top;\n",
       "    }\n",
       "\n",
       "    .dataframe thead th {\n",
       "        text-align: right;\n",
       "    }\n",
       "</style>\n",
       "<table border=\"1\" class=\"dataframe\">\n",
       "  <thead>\n",
       "    <tr style=\"text-align: right;\">\n",
       "      <th></th>\n",
       "      <th>passenger_count</th>\n",
       "      <th>pickup_longitude</th>\n",
       "      <th>pickup_latitude</th>\n",
       "      <th>dropoff_longitude</th>\n",
       "      <th>dropoff_latitude</th>\n",
       "      <th>pickup_month</th>\n",
       "      <th>dropoff_month</th>\n",
       "      <th>pickup_hour</th>\n",
       "      <th>dropoff_hour</th>\n",
       "    </tr>\n",
       "  </thead>\n",
       "  <tbody>\n",
       "    <tr>\n",
       "      <th>0</th>\n",
       "      <td>1</td>\n",
       "      <td>-73.982155</td>\n",
       "      <td>40.767937</td>\n",
       "      <td>-73.964630</td>\n",
       "      <td>40.765602</td>\n",
       "      <td>3</td>\n",
       "      <td>3</td>\n",
       "      <td>17</td>\n",
       "      <td>17</td>\n",
       "    </tr>\n",
       "    <tr>\n",
       "      <th>1</th>\n",
       "      <td>1</td>\n",
       "      <td>-73.980415</td>\n",
       "      <td>40.738564</td>\n",
       "      <td>-73.999481</td>\n",
       "      <td>40.731152</td>\n",
       "      <td>6</td>\n",
       "      <td>6</td>\n",
       "      <td>0</td>\n",
       "      <td>0</td>\n",
       "    </tr>\n",
       "    <tr>\n",
       "      <th>2</th>\n",
       "      <td>1</td>\n",
       "      <td>-73.979027</td>\n",
       "      <td>40.763939</td>\n",
       "      <td>-74.005333</td>\n",
       "      <td>40.710087</td>\n",
       "      <td>1</td>\n",
       "      <td>1</td>\n",
       "      <td>11</td>\n",
       "      <td>12</td>\n",
       "    </tr>\n",
       "    <tr>\n",
       "      <th>3</th>\n",
       "      <td>1</td>\n",
       "      <td>-74.010040</td>\n",
       "      <td>40.719971</td>\n",
       "      <td>-74.012268</td>\n",
       "      <td>40.706718</td>\n",
       "      <td>4</td>\n",
       "      <td>4</td>\n",
       "      <td>19</td>\n",
       "      <td>19</td>\n",
       "    </tr>\n",
       "    <tr>\n",
       "      <th>4</th>\n",
       "      <td>1</td>\n",
       "      <td>-73.973053</td>\n",
       "      <td>40.793209</td>\n",
       "      <td>-73.972923</td>\n",
       "      <td>40.782520</td>\n",
       "      <td>3</td>\n",
       "      <td>3</td>\n",
       "      <td>13</td>\n",
       "      <td>13</td>\n",
       "    </tr>\n",
       "    <tr>\n",
       "      <th>...</th>\n",
       "      <td>...</td>\n",
       "      <td>...</td>\n",
       "      <td>...</td>\n",
       "      <td>...</td>\n",
       "      <td>...</td>\n",
       "      <td>...</td>\n",
       "      <td>...</td>\n",
       "      <td>...</td>\n",
       "      <td>...</td>\n",
       "    </tr>\n",
       "    <tr>\n",
       "      <th>1458639</th>\n",
       "      <td>4</td>\n",
       "      <td>-73.982201</td>\n",
       "      <td>40.745522</td>\n",
       "      <td>-73.994911</td>\n",
       "      <td>40.740170</td>\n",
       "      <td>4</td>\n",
       "      <td>4</td>\n",
       "      <td>13</td>\n",
       "      <td>13</td>\n",
       "    </tr>\n",
       "    <tr>\n",
       "      <th>1458640</th>\n",
       "      <td>1</td>\n",
       "      <td>-74.000946</td>\n",
       "      <td>40.747379</td>\n",
       "      <td>-73.970184</td>\n",
       "      <td>40.796547</td>\n",
       "      <td>1</td>\n",
       "      <td>1</td>\n",
       "      <td>7</td>\n",
       "      <td>7</td>\n",
       "    </tr>\n",
       "    <tr>\n",
       "      <th>1458641</th>\n",
       "      <td>1</td>\n",
       "      <td>-73.959129</td>\n",
       "      <td>40.768799</td>\n",
       "      <td>-74.004433</td>\n",
       "      <td>40.707371</td>\n",
       "      <td>4</td>\n",
       "      <td>4</td>\n",
       "      <td>6</td>\n",
       "      <td>7</td>\n",
       "    </tr>\n",
       "    <tr>\n",
       "      <th>1458642</th>\n",
       "      <td>1</td>\n",
       "      <td>-73.982079</td>\n",
       "      <td>40.749062</td>\n",
       "      <td>-73.974632</td>\n",
       "      <td>40.757107</td>\n",
       "      <td>1</td>\n",
       "      <td>1</td>\n",
       "      <td>15</td>\n",
       "      <td>16</td>\n",
       "    </tr>\n",
       "    <tr>\n",
       "      <th>1458643</th>\n",
       "      <td>1</td>\n",
       "      <td>-73.979538</td>\n",
       "      <td>40.781750</td>\n",
       "      <td>-73.972809</td>\n",
       "      <td>40.790585</td>\n",
       "      <td>4</td>\n",
       "      <td>4</td>\n",
       "      <td>14</td>\n",
       "      <td>14</td>\n",
       "    </tr>\n",
       "  </tbody>\n",
       "</table>\n",
       "<p>1456708 rows × 9 columns</p>\n",
       "</div>"
      ],
      "text/plain": [
       "         passenger_count  pickup_longitude  pickup_latitude  \\\n",
       "0                      1        -73.982155        40.767937   \n",
       "1                      1        -73.980415        40.738564   \n",
       "2                      1        -73.979027        40.763939   \n",
       "3                      1        -74.010040        40.719971   \n",
       "4                      1        -73.973053        40.793209   \n",
       "...                  ...               ...              ...   \n",
       "1458639                4        -73.982201        40.745522   \n",
       "1458640                1        -74.000946        40.747379   \n",
       "1458641                1        -73.959129        40.768799   \n",
       "1458642                1        -73.982079        40.749062   \n",
       "1458643                1        -73.979538        40.781750   \n",
       "\n",
       "         dropoff_longitude  dropoff_latitude  pickup_month  dropoff_month  \\\n",
       "0               -73.964630         40.765602             3              3   \n",
       "1               -73.999481         40.731152             6              6   \n",
       "2               -74.005333         40.710087             1              1   \n",
       "3               -74.012268         40.706718             4              4   \n",
       "4               -73.972923         40.782520             3              3   \n",
       "...                    ...               ...           ...            ...   \n",
       "1458639         -73.994911         40.740170             4              4   \n",
       "1458640         -73.970184         40.796547             1              1   \n",
       "1458641         -74.004433         40.707371             4              4   \n",
       "1458642         -73.974632         40.757107             1              1   \n",
       "1458643         -73.972809         40.790585             4              4   \n",
       "\n",
       "         pickup_hour  dropoff_hour  \n",
       "0                 17            17  \n",
       "1                  0             0  \n",
       "2                 11            12  \n",
       "3                 19            19  \n",
       "4                 13            13  \n",
       "...              ...           ...  \n",
       "1458639           13            13  \n",
       "1458640            7             7  \n",
       "1458641            6             7  \n",
       "1458642           15            16  \n",
       "1458643           14            14  \n",
       "\n",
       "[1456708 rows x 9 columns]"
      ]
     },
     "execution_count": 82,
     "metadata": {},
     "output_type": "execute_result"
    }
   ],
   "source": [
    "X"
   ]
  },
  {
   "cell_type": "code",
   "execution_count": 83,
   "metadata": {},
   "outputs": [],
   "source": [
    "X=X.drop(['dropoff_month','dropoff_hour'],axis=1)"
   ]
  },
  {
   "cell_type": "code",
   "execution_count": 84,
   "metadata": {},
   "outputs": [
    {
     "data": {
      "text/html": [
       "<div>\n",
       "<style scoped>\n",
       "    .dataframe tbody tr th:only-of-type {\n",
       "        vertical-align: middle;\n",
       "    }\n",
       "\n",
       "    .dataframe tbody tr th {\n",
       "        vertical-align: top;\n",
       "    }\n",
       "\n",
       "    .dataframe thead th {\n",
       "        text-align: right;\n",
       "    }\n",
       "</style>\n",
       "<table border=\"1\" class=\"dataframe\">\n",
       "  <thead>\n",
       "    <tr style=\"text-align: right;\">\n",
       "      <th></th>\n",
       "      <th>passenger_count</th>\n",
       "      <th>pickup_longitude</th>\n",
       "      <th>pickup_latitude</th>\n",
       "      <th>dropoff_longitude</th>\n",
       "      <th>dropoff_latitude</th>\n",
       "      <th>pickup_month</th>\n",
       "      <th>pickup_hour</th>\n",
       "    </tr>\n",
       "  </thead>\n",
       "  <tbody>\n",
       "    <tr>\n",
       "      <th>0</th>\n",
       "      <td>1</td>\n",
       "      <td>-73.982155</td>\n",
       "      <td>40.767937</td>\n",
       "      <td>-73.964630</td>\n",
       "      <td>40.765602</td>\n",
       "      <td>3</td>\n",
       "      <td>17</td>\n",
       "    </tr>\n",
       "    <tr>\n",
       "      <th>1</th>\n",
       "      <td>1</td>\n",
       "      <td>-73.980415</td>\n",
       "      <td>40.738564</td>\n",
       "      <td>-73.999481</td>\n",
       "      <td>40.731152</td>\n",
       "      <td>6</td>\n",
       "      <td>0</td>\n",
       "    </tr>\n",
       "    <tr>\n",
       "      <th>2</th>\n",
       "      <td>1</td>\n",
       "      <td>-73.979027</td>\n",
       "      <td>40.763939</td>\n",
       "      <td>-74.005333</td>\n",
       "      <td>40.710087</td>\n",
       "      <td>1</td>\n",
       "      <td>11</td>\n",
       "    </tr>\n",
       "    <tr>\n",
       "      <th>3</th>\n",
       "      <td>1</td>\n",
       "      <td>-74.010040</td>\n",
       "      <td>40.719971</td>\n",
       "      <td>-74.012268</td>\n",
       "      <td>40.706718</td>\n",
       "      <td>4</td>\n",
       "      <td>19</td>\n",
       "    </tr>\n",
       "    <tr>\n",
       "      <th>4</th>\n",
       "      <td>1</td>\n",
       "      <td>-73.973053</td>\n",
       "      <td>40.793209</td>\n",
       "      <td>-73.972923</td>\n",
       "      <td>40.782520</td>\n",
       "      <td>3</td>\n",
       "      <td>13</td>\n",
       "    </tr>\n",
       "    <tr>\n",
       "      <th>...</th>\n",
       "      <td>...</td>\n",
       "      <td>...</td>\n",
       "      <td>...</td>\n",
       "      <td>...</td>\n",
       "      <td>...</td>\n",
       "      <td>...</td>\n",
       "      <td>...</td>\n",
       "    </tr>\n",
       "    <tr>\n",
       "      <th>1458639</th>\n",
       "      <td>4</td>\n",
       "      <td>-73.982201</td>\n",
       "      <td>40.745522</td>\n",
       "      <td>-73.994911</td>\n",
       "      <td>40.740170</td>\n",
       "      <td>4</td>\n",
       "      <td>13</td>\n",
       "    </tr>\n",
       "    <tr>\n",
       "      <th>1458640</th>\n",
       "      <td>1</td>\n",
       "      <td>-74.000946</td>\n",
       "      <td>40.747379</td>\n",
       "      <td>-73.970184</td>\n",
       "      <td>40.796547</td>\n",
       "      <td>1</td>\n",
       "      <td>7</td>\n",
       "    </tr>\n",
       "    <tr>\n",
       "      <th>1458641</th>\n",
       "      <td>1</td>\n",
       "      <td>-73.959129</td>\n",
       "      <td>40.768799</td>\n",
       "      <td>-74.004433</td>\n",
       "      <td>40.707371</td>\n",
       "      <td>4</td>\n",
       "      <td>6</td>\n",
       "    </tr>\n",
       "    <tr>\n",
       "      <th>1458642</th>\n",
       "      <td>1</td>\n",
       "      <td>-73.982079</td>\n",
       "      <td>40.749062</td>\n",
       "      <td>-73.974632</td>\n",
       "      <td>40.757107</td>\n",
       "      <td>1</td>\n",
       "      <td>15</td>\n",
       "    </tr>\n",
       "    <tr>\n",
       "      <th>1458643</th>\n",
       "      <td>1</td>\n",
       "      <td>-73.979538</td>\n",
       "      <td>40.781750</td>\n",
       "      <td>-73.972809</td>\n",
       "      <td>40.790585</td>\n",
       "      <td>4</td>\n",
       "      <td>14</td>\n",
       "    </tr>\n",
       "  </tbody>\n",
       "</table>\n",
       "<p>1456708 rows × 7 columns</p>\n",
       "</div>"
      ],
      "text/plain": [
       "         passenger_count  pickup_longitude  pickup_latitude  \\\n",
       "0                      1        -73.982155        40.767937   \n",
       "1                      1        -73.980415        40.738564   \n",
       "2                      1        -73.979027        40.763939   \n",
       "3                      1        -74.010040        40.719971   \n",
       "4                      1        -73.973053        40.793209   \n",
       "...                  ...               ...              ...   \n",
       "1458639                4        -73.982201        40.745522   \n",
       "1458640                1        -74.000946        40.747379   \n",
       "1458641                1        -73.959129        40.768799   \n",
       "1458642                1        -73.982079        40.749062   \n",
       "1458643                1        -73.979538        40.781750   \n",
       "\n",
       "         dropoff_longitude  dropoff_latitude  pickup_month  pickup_hour  \n",
       "0               -73.964630         40.765602             3           17  \n",
       "1               -73.999481         40.731152             6            0  \n",
       "2               -74.005333         40.710087             1           11  \n",
       "3               -74.012268         40.706718             4           19  \n",
       "4               -73.972923         40.782520             3           13  \n",
       "...                    ...               ...           ...          ...  \n",
       "1458639         -73.994911         40.740170             4           13  \n",
       "1458640         -73.970184         40.796547             1            7  \n",
       "1458641         -74.004433         40.707371             4            6  \n",
       "1458642         -73.974632         40.757107             1           15  \n",
       "1458643         -73.972809         40.790585             4           14  \n",
       "\n",
       "[1456708 rows x 7 columns]"
      ]
     },
     "execution_count": 84,
     "metadata": {},
     "output_type": "execute_result"
    }
   ],
   "source": [
    "X"
   ]
  },
  {
   "cell_type": "code",
   "execution_count": 85,
   "metadata": {},
   "outputs": [
    {
     "data": {
      "text/plain": [
       "<matplotlib.collections.PathCollection at 0x238cf0d05c8>"
      ]
     },
     "execution_count": 85,
     "metadata": {},
     "output_type": "execute_result"
    },
    {
     "data": {
      "image/png": "[encoded data removed]",
      "text/plain": [
       "<Figure size 432x288 with 1 Axes>"
      ]
     },
     "metadata": {
      "needs_background": "light"
     },
     "output_type": "display_data"
    }
   ],
   "source": [
    "plt.scatter(X['dropoff_latitude'],X['dropoff_longitude'])"
   ]
  },
  {
   "cell_type": "code",
   "execution_count": 86,
   "metadata": {},
   "outputs": [
    {
     "data": {
      "text/html": [
       "<div>\n",
       "<style scoped>\n",
       "    .dataframe tbody tr th:only-of-type {\n",
       "        vertical-align: middle;\n",
       "    }\n",
       "\n",
       "    .dataframe tbody tr th {\n",
       "        vertical-align: top;\n",
       "    }\n",
       "\n",
       "    .dataframe thead th {\n",
       "        text-align: right;\n",
       "    }\n",
       "</style>\n",
       "<table border=\"1\" class=\"dataframe\">\n",
       "  <thead>\n",
       "    <tr style=\"text-align: right;\">\n",
       "      <th></th>\n",
       "      <th>passenger_count</th>\n",
       "      <th>pickup_longitude</th>\n",
       "      <th>pickup_latitude</th>\n",
       "      <th>dropoff_longitude</th>\n",
       "      <th>dropoff_latitude</th>\n",
       "      <th>pickup_month</th>\n",
       "      <th>pickup_hour</th>\n",
       "    </tr>\n",
       "  </thead>\n",
       "  <tbody>\n",
       "    <tr>\n",
       "      <th>1068810</th>\n",
       "      <td>2</td>\n",
       "      <td>-121.933235</td>\n",
       "      <td>37.389297</td>\n",
       "      <td>-121.933205</td>\n",
       "      <td>37.389103</td>\n",
       "      <td>1</td>\n",
       "      <td>18</td>\n",
       "    </tr>\n",
       "    <tr>\n",
       "      <th>1184454</th>\n",
       "      <td>2</td>\n",
       "      <td>-121.933342</td>\n",
       "      <td>37.389381</td>\n",
       "      <td>-121.933304</td>\n",
       "      <td>37.389511</td>\n",
       "      <td>2</td>\n",
       "      <td>13</td>\n",
       "    </tr>\n",
       "  </tbody>\n",
       "</table>\n",
       "</div>"
      ],
      "text/plain": [
       "         passenger_count  pickup_longitude  pickup_latitude  \\\n",
       "1068810                2       -121.933235        37.389297   \n",
       "1184454                2       -121.933342        37.389381   \n",
       "\n",
       "         dropoff_longitude  dropoff_latitude  pickup_month  pickup_hour  \n",
       "1068810        -121.933205         37.389103             1           18  \n",
       "1184454        -121.933304         37.389511             2           13  "
      ]
     },
     "execution_count": 86,
     "metadata": {},
     "output_type": "execute_result"
    }
   ],
   "source": [
    "X[X['dropoff_longitude']<-120]"
   ]
  },
  {
   "cell_type": "code",
   "execution_count": 88,
   "metadata": {},
   "outputs": [
    {
     "data": {
      "text/plain": [
       "<matplotlib.collections.PathCollection at 0x238d1971688>"
      ]
     },
     "execution_count": 88,
     "metadata": {},
     "output_type": "execute_result"
    },
    {
     "data": {
      "image/png": "[encoded data removed]",
      "text/plain": [
       "<Figure size 432x288 with 1 Axes>"
      ]
     },
     "metadata": {
      "needs_background": "light"
     },
     "output_type": "display_data"
    }
   ],
   "source": [
    "plt.scatter(X[X['dropoff_longitude']>-110]['dropoff_latitude'],X[X['dropoff_longitude']>-110]['dropoff_longitude'])"
   ]
  },
  {
   "cell_type": "code",
   "execution_count": 93,
   "metadata": {},
   "outputs": [
    {
     "name": "stdout",
     "output_type": "stream",
     "text": [
      "-32905.889883053795\n"
     ]
    }
   ],
   "source": [
    "print(lm.intercept_)"
   ]
  },
  {
   "cell_type": "code",
   "execution_count": 94,
   "metadata": {},
   "outputs": [
    {
     "data": {
      "text/html": [
       "<div>\n",
       "<style scoped>\n",
       "    .dataframe tbody tr th:only-of-type {\n",
       "        vertical-align: middle;\n",
       "    }\n",
       "\n",
       "    .dataframe tbody tr th {\n",
       "        vertical-align: top;\n",
       "    }\n",
       "\n",
       "    .dataframe thead th {\n",
       "        text-align: right;\n",
       "    }\n",
       "</style>\n",
       "<table border=\"1\" class=\"dataframe\">\n",
       "  <thead>\n",
       "    <tr style=\"text-align: right;\">\n",
       "      <th></th>\n",
       "      <th>Coefficient</th>\n",
       "    </tr>\n",
       "  </thead>\n",
       "  <tbody>\n",
       "    <tr>\n",
       "      <th>passenger_count</th>\n",
       "      <td>66.014821</td>\n",
       "    </tr>\n",
       "    <tr>\n",
       "      <th>pickup_longitude</th>\n",
       "      <td>121551.225805</td>\n",
       "    </tr>\n",
       "    <tr>\n",
       "      <th>pickup_latitude</th>\n",
       "      <td>-34291.692568</td>\n",
       "    </tr>\n",
       "    <tr>\n",
       "      <th>dropoff_longitude</th>\n",
       "      <td>-35741.213350</td>\n",
       "    </tr>\n",
       "    <tr>\n",
       "      <th>dropoff_latitude</th>\n",
       "      <td>-17685.477410</td>\n",
       "    </tr>\n",
       "    <tr>\n",
       "      <th>pickup_month</th>\n",
       "      <td>114.582655</td>\n",
       "    </tr>\n",
       "    <tr>\n",
       "      <th>pickup_hour</th>\n",
       "      <td>62.139473</td>\n",
       "    </tr>\n",
       "  </tbody>\n",
       "</table>\n",
       "</div>"
      ],
      "text/plain": [
       "                     Coefficient\n",
       "passenger_count        66.014821\n",
       "pickup_longitude   121551.225805\n",
       "pickup_latitude    -34291.692568\n",
       "dropoff_longitude  -35741.213350\n",
       "dropoff_latitude   -17685.477410\n",
       "pickup_month          114.582655\n",
       "pickup_hour            62.139473"
      ]
     },
     "execution_count": 94,
     "metadata": {},
     "output_type": "execute_result"
    }
   ],
   "source": [
    "coeff_df = pd.DataFrame(lm.coef_,X.columns,columns=['Coefficient'])\n",
    "coeff_df"
   ]
  },
  {
   "cell_type": "code",
   "execution_count": 95,
   "metadata": {},
   "outputs": [],
   "source": [
    "predictions = lm.predict(X_test)"
   ]
  },
  {
   "cell_type": "code",
   "execution_count": 96,
   "metadata": {},
   "outputs": [
    {
     "data": {
      "text/plain": [
       "<matplotlib.collections.PathCollection at 0x2388b06e148>"
      ]
     },
     "execution_count": 96,
     "metadata": {},
     "output_type": "execute_result"
    },
    {
     "data": {
      "image/png": "[encoded data removed]",
      "text/plain": [
       "<Figure size 432x288 with 1 Axes>"
      ]
     },
     "metadata": {
      "needs_background": "light"
     },
     "output_type": "display_data"
    }
   ],
   "source": [
    "plt.scatter(y_test,predictions)"
   ]
  },
  {
   "cell_type": "code",
   "execution_count": 98,
   "metadata": {},
   "outputs": [
    {
     "data": {
      "text/plain": [
       "69732"
      ]
     },
     "execution_count": 98,
     "metadata": {},
     "output_type": "execute_result"
    }
   ],
   "source": [
    "y_test.max()"
   ]
  },
  {
   "cell_type": "code",
   "execution_count": 99,
   "metadata": {},
   "outputs": [
    {
     "data": {
      "text/plain": [
       "35269.560609537"
      ]
     },
     "execution_count": 99,
     "metadata": {},
     "output_type": "execute_result"
    }
   ],
   "source": [
    "predictions.max()"
   ]
  },
  {
   "cell_type": "code",
   "execution_count": 100,
   "metadata": {},
   "outputs": [
    {
     "data": {
      "text/plain": [
       "69668"
      ]
     },
     "execution_count": 100,
     "metadata": {},
     "output_type": "execute_result"
    }
   ],
   "source": [
    "y_train.max()"
   ]
  },
  {
   "cell_type": "code",
   "execution_count": null,
   "metadata": {},
   "outputs": [],
   "source": []
  }
 ],
 "metadata": {
  "kernelspec": {
   "display_name": "Python 3",
   "language": "python",
   "name": "python3"
  },
  "language_info": {
   "codemirror_mode": {
    "name": "ipython",
    "version": 3
   },
   "file_extension": ".py",
   "mimetype": "text/x-python",
   "name": "python",
   "nbconvert_exporter": "python",
   "pygments_lexer": "ipython3",
   "version": "3.7.6"
  }
 },
 "nbformat": 4,
 "nbformat_minor": 4
}
